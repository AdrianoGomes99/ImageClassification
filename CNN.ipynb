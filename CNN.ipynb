{
 "nbformat": 4,
 "nbformat_minor": 0,
 "metadata": {
  "colab": {
   "provenance": [],
   "collapsed_sections": []
  },
  "kernelspec": {
   "name": "python3",
   "display_name": "Python 3"
  },
  "accelerator": "GPU"
 },
 "cells": [
  {
   "cell_type": "markdown",
   "metadata": {
    "id": "vx_V32mA_BDB",
    "pycharm": {
     "name": "#%% md\n"
    }
   },
   "source": [
    "Import numpy and sklearn method."
   ]
  },
  {
   "cell_type": "code",
   "execution_count": 1,
   "outputs": [
    {
     "name": "stdout",
     "output_type": "stream",
     "text": [
      "1.20.1\n"
     ]
    }
   ],
   "source": [
    "import numpy as np\n",
    "from sklearn.datasets import load_files\n",
    "\n",
    "print(np.__version__)"
   ],
   "metadata": {
    "collapsed": false,
    "pycharm": {
     "name": "#%%\n"
    }
   }
  },
  {
   "cell_type": "code",
   "execution_count": 2,
   "outputs": [
    {
     "name": "stdout",
     "output_type": "stream",
     "text": [
      "0.24.1\n"
     ]
    }
   ],
   "source": [
    "import sklearn\n",
    "print(sklearn.__version__)"
   ],
   "metadata": {
    "collapsed": false,
    "pycharm": {
     "name": "#%%\n"
    }
   }
  },
  {
   "cell_type": "markdown",
   "source": [
    "Copy dataset from git repo. TESTTest"
   ],
   "metadata": {
    "collapsed": false,
    "pycharm": {
     "name": "#%% md\n"
    }
   }
  },
  {
   "cell_type": "code",
   "execution_count": 3,
   "outputs": [
    {
     "name": "stderr",
     "output_type": "stream",
     "text": [
      "Cloning into 'Fruit-Images-Dataset'...\n",
      "Updating files:   1% (1728/90503)\n",
      "Updating files:   2% (1811/90503)\n",
      "Updating files:   3% (2716/90503)\n",
      "Updating files:   4% (3621/90503)\n",
      "Updating files:   4% (3833/90503)\n",
      "Updating files:   5% (4526/90503)\n",
      "Updating files:   6% (5431/90503)\n",
      "Updating files:   6% (5812/90503)\n",
      "Updating files:   7% (6336/90503)\n",
      "Updating files:   8% (7241/90503)\n",
      "Updating files:   8% (7536/90503)\n",
      "Updating files:   9% (8146/90503)\n",
      "Updating files:  10% (9051/90503)\n",
      "Updating files:  10% (9523/90503)\n",
      "Updating files:  11% (9956/90503)\n",
      "Updating files:  12% (10861/90503)\n",
      "Updating files:  12% (11196/90503)\n",
      "Updating files:  13% (11766/90503)\n",
      "Updating files:  14% (12671/90503)\n",
      "Updating files:  14% (13249/90503)\n",
      "Updating files:  15% (13576/90503)\n",
      "Updating files:  16% (14481/90503)\n",
      "Updating files:  16% (15051/90503)\n",
      "Updating files:  17% (15386/90503)\n",
      "Updating files:  18% (16291/90503)\n",
      "Updating files:  19% (17196/90503)\n",
      "Updating files:  19% (17200/90503)\n",
      "Updating files:  20% (18101/90503)\n",
      "Updating files:  21% (19006/90503)\n",
      "Updating files:  21% (19252/90503)\n",
      "Updating files:  22% (19911/90503)\n",
      "Updating files:  23% (20816/90503)\n",
      "Updating files:  23% (21371/90503)\n",
      "Updating files:  24% (21721/90503)\n",
      "Updating files:  25% (22626/90503)\n",
      "Updating files:  25% (23403/90503)\n",
      "Updating files:  26% (23531/90503)\n",
      "Updating files:  27% (24436/90503)\n",
      "Updating files:  27% (25057/90503)\n",
      "Updating files:  28% (25341/90503)\n",
      "Updating files:  29% (26246/90503)\n",
      "Updating files:  30% (27151/90503)\n",
      "Updating files:  30% (27182/90503)\n",
      "Updating files:  31% (28056/90503)\n",
      "Updating files:  32% (28961/90503)\n",
      "Updating files:  32% (29152/90503)\n",
      "Updating files:  33% (29866/90503)\n",
      "Updating files:  34% (30772/90503)\n",
      "Updating files:  34% (31272/90503)\n",
      "Updating files:  35% (31677/90503)\n",
      "Updating files:  36% (32582/90503)\n",
      "Updating files:  36% (33209/90503)\n",
      "Updating files:  37% (33487/90503)\n",
      "Updating files:  38% (34392/90503)\n",
      "Updating files:  38% (35160/90503)\n",
      "Updating files:  39% (35297/90503)\n",
      "Updating files:  40% (36202/90503)\n",
      "Updating files:  40% (37090/90503)\n",
      "Updating files:  41% (37107/90503)\n",
      "Updating files:  42% (38012/90503)\n",
      "Updating files:  42% (38846/90503)\n",
      "Updating files:  43% (38917/90503)\n",
      "Updating files:  44% (39822/90503)\n",
      "Updating files:  45% (40727/90503)\n",
      "Updating files:  45% (40862/90503)\n",
      "Updating files:  46% (41632/90503)\n",
      "Updating files:  47% (42537/90503)\n",
      "Updating files:  47% (42943/90503)\n",
      "Updating files:  48% (43442/90503)\n",
      "Updating files:  49% (44347/90503)\n",
      "Updating files:  49% (44895/90503)\n",
      "Updating files:  50% (45252/90503)\n",
      "Updating files:  51% (46157/90503)\n",
      "Updating files:  51% (47051/90503)\n",
      "Updating files:  52% (47062/90503)\n",
      "Updating files:  53% (47967/90503)\n",
      "Updating files:  53% (48761/90503)\n",
      "Updating files:  54% (48872/90503)\n",
      "Updating files:  55% (49777/90503)\n",
      "Updating files:  55% (50140/90503)\n",
      "Updating files:  56% (50682/90503)\n",
      "Updating files:  57% (51587/90503)\n",
      "Updating files:  57% (52237/90503)\n",
      "Updating files:  58% (52492/90503)\n",
      "Updating files:  59% (53397/90503)\n",
      "Updating files:  59% (54283/90503)\n",
      "Updating files:  60% (54302/90503)\n",
      "Updating files:  61% (55207/90503)\n",
      "Updating files:  62% (56112/90503)\n",
      "Updating files:  62% (56415/90503)\n",
      "Updating files:  63% (57017/90503)\n",
      "Updating files:  64% (57922/90503)\n",
      "Updating files:  64% (58388/90503)\n",
      "Updating files:  65% (58827/90503)\n",
      "Updating files:  66% (59732/90503)\n",
      "Updating files:  66% (60213/90503)\n",
      "Updating files:  67% (60638/90503)\n",
      "Updating files:  68% (61543/90503)\n",
      "Updating files:  68% (62062/90503)\n",
      "Updating files:  69% (62448/90503)\n",
      "Updating files:  70% (63353/90503)\n",
      "Updating files:  70% (63518/90503)\n",
      "Updating files:  71% (64258/90503)\n",
      "Updating files:  71% (65046/90503)\n",
      "Updating files:  72% (65163/90503)\n",
      "Updating files:  73% (66068/90503)\n",
      "Updating files:  73% (66567/90503)\n",
      "Updating files:  74% (66973/90503)\n",
      "Updating files:  75% (67878/90503)\n",
      "Updating files:  75% (68102/90503)\n",
      "Updating files:  76% (68783/90503)\n",
      "Updating files:  76% (69544/90503)\n",
      "Updating files:  77% (69688/90503)\n",
      "Updating files:  77% (70554/90503)\n",
      "Updating files:  78% (70593/90503)\n",
      "Updating files:  79% (71498/90503)\n",
      "Updating files:  79% (72134/90503)\n",
      "Updating files:  80% (72403/90503)\n",
      "Updating files:  81% (73308/90503)\n",
      "Updating files:  81% (73653/90503)\n",
      "Updating files:  82% (74213/90503)\n",
      "Updating files:  82% (75117/90503)\n",
      "Updating files:  83% (75118/90503)\n",
      "Updating files:  84% (76023/90503)\n",
      "Updating files:  84% (76627/90503)\n",
      "Updating files:  85% (76928/90503)\n",
      "Updating files:  86% (77833/90503)\n",
      "Updating files:  86% (78134/90503)\n",
      "Updating files:  87% (78738/90503)\n",
      "Updating files:  88% (79643/90503)\n",
      "Updating files:  88% (79803/90503)\n",
      "Updating files:  89% (80548/90503)\n",
      "Updating files:  89% (81150/90503)\n",
      "Updating files:  90% (81453/90503)\n",
      "Updating files:  91% (82358/90503)\n",
      "Updating files:  91% (82740/90503)\n",
      "Updating files:  92% (83263/90503)\n",
      "Updating files:  93% (84168/90503)\n",
      "Updating files:  93% (84326/90503)\n",
      "Updating files:  94% (85073/90503)\n",
      "Updating files:  94% (85859/90503)\n",
      "Updating files:  95% (85978/90503)\n",
      "Updating files:  96% (86883/90503)\n",
      "Updating files:  96% (87372/90503)\n",
      "Updating files:  97% (87788/90503)\n",
      "Updating files:  98% (88693/90503)\n",
      "Updating files:  98% (88857/90503)\n",
      "Updating files:  99% (89598/90503)\n",
      "Updating files:  99% (90402/90503)\n",
      "Updating files:  99% (90445/90503)\n",
      "Updating files:  99% (90494/90503)\n",
      "Updating files: 100% (90503/90503)\n",
      "Updating files: 100% (90503/90503), done.\n"
     ]
    }
   ],
   "source": [
    "!git clone https://github.com/Horea94/Fruit-Images-Dataset"
   ],
   "metadata": {
    "collapsed": false,
    "pycharm": {
     "name": "#%%\n"
    }
   }
  },
  {
   "cell_type": "markdown",
   "source": [
    "Set the path directory to the cloned test and train data.\n",
    "load_dataset() returns the filenames, integer classes and string classes that are stored in file directory.\n",
    "\n",
    "\n",
    "1.   names_train is a vector that contains the filepath of all images from the training set\n",
    "2.   names_test is a vector that contains the filepath of all images from the test set\n",
    "3.   intclass_train is a vector containing the int class values (1-131) of all images from the training set\n",
    "4.   intclass_test is a vector containing the int class values (1-131) of all images from the test set\n",
    "5.   stringclass_train is a vector containing the string label of class of all images from the training set\n",
    "6.   stringclass_test is a vector containing the string label of class of all images from the test set\n",
    "\n",
    "\n",
    "\n",
    "\n"
   ],
   "metadata": {
    "collapsed": false,
    "pycharm": {
     "name": "#%% md\n"
    }
   }
  },
  {
   "cell_type": "code",
   "execution_count": 4,
   "outputs": [
    {
     "name": "stdout",
     "output_type": "stream",
     "text": [
      "Loading complete!\n",
      "Training set size :  67692\n",
      "Testing set size :  22688\n",
      "['Apple Braeburn' 'Apple Crimson Snow' 'Apple Golden 1' 'Apple Golden 2'\n",
      " 'Apple Golden 3' 'Apple Granny Smith' 'Apple Pink Lady' 'Apple Red 1'\n",
      " 'Apple Red 2' 'Apple Red 3' 'Apple Red Delicious' 'Apple Red Yellow 1'\n",
      " 'Apple Red Yellow 2' 'Apricot' 'Avocado' 'Avocado ripe' 'Banana'\n",
      " 'Banana Lady Finger' 'Banana Red' 'Beetroot' 'Blueberry' 'Cactus fruit'\n",
      " 'Cantaloupe 1' 'Cantaloupe 2' 'Carambula' 'Cauliflower' 'Cherry 1'\n",
      " 'Cherry 2' 'Cherry Rainier' 'Cherry Wax Black' 'Cherry Wax Red'\n",
      " 'Cherry Wax Yellow' 'Chestnut' 'Clementine' 'Cocos' 'Corn' 'Corn Husk'\n",
      " 'Cucumber Ripe' 'Cucumber Ripe 2' 'Dates' 'Eggplant' 'Fig' 'Ginger Root'\n",
      " 'Granadilla' 'Grape Blue' 'Grape Pink' 'Grape White' 'Grape White 2'\n",
      " 'Grape White 3' 'Grape White 4' 'Grapefruit Pink' 'Grapefruit White'\n",
      " 'Guava' 'Hazelnut' 'Huckleberry' 'Kaki' 'Kiwi' 'Kohlrabi' 'Kumquats'\n",
      " 'Lemon' 'Lemon Meyer' 'Limes' 'Lychee' 'Mandarine' 'Mango' 'Mango Red'\n",
      " 'Mangostan' 'Maracuja' 'Melon Piel de Sapo' 'Mulberry' 'Nectarine'\n",
      " 'Nectarine Flat' 'Nut Forest' 'Nut Pecan' 'Onion Red' 'Onion Red Peeled'\n",
      " 'Onion White' 'Orange' 'Papaya' 'Passion Fruit' 'Peach' 'Peach 2'\n",
      " 'Peach Flat' 'Pear' 'Pear 2' 'Pear Abate' 'Pear Forelle' 'Pear Kaiser'\n",
      " 'Pear Monster' 'Pear Red' 'Pear Stone' 'Pear Williams' 'Pepino'\n",
      " 'Pepper Green' 'Pepper Orange' 'Pepper Red' 'Pepper Yellow' 'Physalis'\n",
      " 'Physalis with Husk' 'Pineapple' 'Pineapple Mini' 'Pitahaya Red' 'Plum'\n",
      " 'Plum 2' 'Plum 3' 'Pomegranate' 'Pomelo Sweetie' 'Potato Red'\n",
      " 'Potato Red Washed' 'Potato Sweet' 'Potato White' 'Quince' 'Rambutan'\n",
      " 'Raspberry' 'Redcurrant' 'Salak' 'Strawberry' 'Strawberry Wedge'\n",
      " 'Tamarillo' 'Tangelo' 'Tomato 1' 'Tomato 2' 'Tomato 3' 'Tomato 4'\n",
      " 'Tomato Cherry Red' 'Tomato Heart' 'Tomato Maroon' 'Tomato Yellow'\n",
      " 'Tomato not Ripened' 'Walnut' 'Watermelon']\n"
     ]
    }
   ],
   "source": [
    "#train_dir_adriano = ''\n",
    "#test_dir = ''\n",
    "train_dir = 'C:/Users/crysi/Private Dokumente/Papers & wissenschaftl. Arbeiten/Master/Foundations of Machine Learning/First Project/Pycharm/Fruit-Images-Dataset/Training/'\n",
    "test_dir = 'C:/Users/crysi/Private Dokumente/Papers & wissenschaftl. Arbeiten/Master/Foundations of Machine Learning/First Project/Pycharm/Fruit-Images-Dataset/Test/'\n",
    "\n",
    "def load_dataset(path):\n",
    "    data = load_files(path)\n",
    "    files = np.array(data['filenames'])\n",
    "    targets = np.array(data['target'])\n",
    "    target_labels = np.array(data['target_names'])\n",
    "    return files, targets, target_labels\n",
    "    \n",
    "names_train, intclass_train, stringclass_train = load_dataset(train_dir)\n",
    "names_test, intclass_test, stringclass_test = load_dataset(test_dir)\n",
    "\n",
    "print('Loading complete!')\n",
    "print('Training set size : ',  names_train.shape[0])\n",
    "print('Testing set size : ', names_test.shape[0])\n",
    "print(stringclass_train)"
   ],
   "metadata": {
    "collapsed": false,
    "pycharm": {
     "name": "#%%\n"
    }
   }
  },
  {
   "cell_type": "markdown",
   "source": [
    "Show distribution of images to the different classes."
   ],
   "metadata": {
    "collapsed": false,
    "pycharm": {
     "name": "#%% md\n"
    }
   }
  },
  {
   "cell_type": "code",
   "execution_count": 5,
   "outputs": [
    {
     "data": {
      "text/plain": "<Figure size 432x288 with 1 Axes>",
      "image/png": "[encoded data removed]"
     },
     "metadata": {
      "needs_background": "light"
     },
     "output_type": "display_data"
    }
   ],
   "source": [
    "import matplotlib.pyplot as plt\n",
    "\n",
    "(intclass, counts) = np.unique(intclass_train, return_counts=True)\n",
    "plt.bar(intclass, counts)\n",
    "plt.title('distribution of full training and test data')\n",
    "full_train_frequencies = np.asarray((intclass, counts)).T\n",
    "\n",
    "(intclass, counts) = np.unique(intclass_test, return_counts=True)\n",
    "plt.bar(intclass, counts)\n",
    "full_test_frequencies = np.asarray((intclass, counts)).T"
   ],
   "metadata": {
    "collapsed": false,
    "pycharm": {
     "name": "#%%\n"
    }
   }
  },
  {
   "cell_type": "markdown",
   "source": [
    "Datasets can be reduced for compiling: original size of the training dataset is 67692 images; original size of the test dataset is 22688 images."
   ],
   "metadata": {
    "collapsed": false,
    "pycharm": {
     "name": "#%% md\n"
    }
   }
  },
  {
   "cell_type": "code",
   "execution_count": null,
   "outputs": [],
   "source": [
    "#train_datasize = 40000\n",
    "#test_datasize = 10000\n",
    "#names_train = names_train[:train_datasize]\n",
    "#names_test = names_test[:test_datasize]\n",
    "#intclass_train = intclass_train[:train_datasize]\n",
    "#intclass_test = intclass_test[:test_datasize]\n",
    "#print('Training set size : ',  names_train.shape[0])\n",
    "#print('Testing set size : ', names_test.shape[0])\n",
    "#print(stringclass_train)\n",
    "#print(intclass_train.shape)\n",
    "#print(intclass_test.shape)"
   ],
   "metadata": {
    "collapsed": false,
    "pycharm": {
     "name": "#%%\n"
    }
   }
  },
  {
   "cell_type": "code",
   "execution_count": 6,
   "outputs": [
    {
     "data": {
      "text/plain": "<Figure size 432x288 with 1 Axes>",
      "image/png": "[encoded data removed]"
     },
     "metadata": {
      "needs_background": "light"
     },
     "output_type": "display_data"
    }
   ],
   "source": [
    "(intclass, counts) = np.unique(intclass_train, return_counts=True)\n",
    "plt.bar(intclass, counts)\n",
    "plt.title('distribution of reduced training and test data')\n",
    "reduced_train_frequencies = np.asarray((intclass, counts)).T\n",
    "\n",
    "(intclass, counts) = np.unique(intclass_test, return_counts=True)\n",
    "plt.bar(intclass, counts)\n",
    "reduced_test_frequencies = np.asarray((intclass, counts)).T\n",
    "\n"
   ],
   "metadata": {
    "collapsed": false,
    "pycharm": {
     "name": "#%%\n"
    }
   }
  },
  {
   "cell_type": "code",
   "execution_count": null,
   "outputs": [],
   "source": [
    "#difference_train = full_train_frequencies - reduced_train_frequencies\n",
    "#print(difference_train)\n",
    "#difference_test = full_test_frequencies - reduced_test_frequencies\n",
    "#print(difference_test)"
   ],
   "metadata": {
    "collapsed": false,
    "pycharm": {
     "name": "#%%\n"
    }
   }
  },
  {
   "cell_type": "code",
   "execution_count": 7,
   "outputs": [
    {
     "name": "stdout",
     "output_type": "stream",
     "text": [
      "Name :  C:/Users/crysi/Private Dokumente/Papers & wissenschaftl. Arbeiten/Master/Foundations of Machine Learning/First Project/Pycharm/Fruit-Images-Dataset/Training/Cherry 2\\r_263_100.jpg\n",
      "Intclass :  27\n",
      "Name :  C:/Users/crysi/Private Dokumente/Papers & wissenschaftl. Arbeiten/Master/Foundations of Machine Learning/First Project/Pycharm/Fruit-Images-Dataset/Training/Nut Pecan\\73_100.jpg\n",
      "Intclass :  73\n",
      "Name :  C:/Users/crysi/Private Dokumente/Papers & wissenschaftl. Arbeiten/Master/Foundations of Machine Learning/First Project/Pycharm/Fruit-Images-Dataset/Training/Melon Piel de Sapo\\r_45_100.jpg\n",
      "Intclass :  68\n",
      "Name :  C:/Users/crysi/Private Dokumente/Papers & wissenschaftl. Arbeiten/Master/Foundations of Machine Learning/First Project/Pycharm/Fruit-Images-Dataset/Training/Redcurrant\\120_100.jpg\n",
      "Intclass :  114\n",
      "Name :  C:/Users/crysi/Private Dokumente/Papers & wissenschaftl. Arbeiten/Master/Foundations of Machine Learning/First Project/Pycharm/Fruit-Images-Dataset/Training/Strawberry Wedge\\r_176_100.jpg\n",
      "Intclass :  117\n",
      "Name :  C:/Users/crysi/Private Dokumente/Papers & wissenschaftl. Arbeiten/Master/Foundations of Machine Learning/First Project/Pycharm/Fruit-Images-Dataset/Training/Peach\\206_100.jpg\n",
      "Intclass :  80\n",
      "Name :  C:/Users/crysi/Private Dokumente/Papers & wissenschaftl. Arbeiten/Master/Foundations of Machine Learning/First Project/Pycharm/Fruit-Images-Dataset/Training/Nut Forest\\87_100.jpg\n",
      "Intclass :  72\n",
      "Name :  C:/Users/crysi/Private Dokumente/Papers & wissenschaftl. Arbeiten/Master/Foundations of Machine Learning/First Project/Pycharm/Fruit-Images-Dataset/Training/Apple Golden 1\\255_100.jpg\n",
      "Intclass :  2\n",
      "Name :  C:/Users/crysi/Private Dokumente/Papers & wissenschaftl. Arbeiten/Master/Foundations of Machine Learning/First Project/Pycharm/Fruit-Images-Dataset/Training/Pear Stone\\r_279_100.jpg\n",
      "Intclass :  90\n",
      "Name :  C:/Users/crysi/Private Dokumente/Papers & wissenschaftl. Arbeiten/Master/Foundations of Machine Learning/First Project/Pycharm/Fruit-Images-Dataset/Training/Watermelon\\105_100.jpg\n",
      "Intclass :  130\n",
      "Name :  C:/Users/crysi/Private Dokumente/Papers & wissenschaftl. Arbeiten/Master/Foundations of Machine Learning/First Project/Pycharm/Fruit-Images-Dataset/Training/Lychee\\103_100.jpg\n",
      "Intclass :  62\n",
      "Name :  C:/Users/crysi/Private Dokumente/Papers & wissenschaftl. Arbeiten/Master/Foundations of Machine Learning/First Project/Pycharm/Fruit-Images-Dataset/Training/Cantaloupe 1\\r_294_100.jpg\n",
      "Intclass :  22\n",
      "Name :  C:/Users/crysi/Private Dokumente/Papers & wissenschaftl. Arbeiten/Master/Foundations of Machine Learning/First Project/Pycharm/Fruit-Images-Dataset/Training/Tomato 2\\57_100.jpg\n",
      "Intclass :  121\n",
      "Name :  C:/Users/crysi/Private Dokumente/Papers & wissenschaftl. Arbeiten/Master/Foundations of Machine Learning/First Project/Pycharm/Fruit-Images-Dataset/Training/Cherry Wax Yellow\\197_100.jpg\n",
      "Intclass :  31\n",
      "Name :  C:/Users/crysi/Private Dokumente/Papers & wissenschaftl. Arbeiten/Master/Foundations of Machine Learning/First Project/Pycharm/Fruit-Images-Dataset/Training/Tomato Yellow\\166_100.jpg\n",
      "Intclass :  127\n",
      "Name :  C:/Users/crysi/Private Dokumente/Papers & wissenschaftl. Arbeiten/Master/Foundations of Machine Learning/First Project/Pycharm/Fruit-Images-Dataset/Training/Apple Granny Smith\\300_100.jpg\n",
      "Intclass :  5\n",
      "Name :  C:/Users/crysi/Private Dokumente/Papers & wissenschaftl. Arbeiten/Master/Foundations of Machine Learning/First Project/Pycharm/Fruit-Images-Dataset/Training/Cherry Rainier\\r_84_100.jpg\n",
      "Intclass :  28\n",
      "Name :  C:/Users/crysi/Private Dokumente/Papers & wissenschaftl. Arbeiten/Master/Foundations of Machine Learning/First Project/Pycharm/Fruit-Images-Dataset/Training/Grape White\\r_121_100.jpg\n",
      "Intclass :  46\n",
      "Name :  C:/Users/crysi/Private Dokumente/Papers & wissenschaftl. Arbeiten/Master/Foundations of Machine Learning/First Project/Pycharm/Fruit-Images-Dataset/Training/Limes\\r_157_100.jpg\n",
      "Intclass :  61\n",
      "Name :  C:/Users/crysi/Private Dokumente/Papers & wissenschaftl. Arbeiten/Master/Foundations of Machine Learning/First Project/Pycharm/Fruit-Images-Dataset/Training/Tomato Cherry Red\\126_100.jpg\n",
      "Intclass :  124\n"
     ]
    }
   ],
   "source": [
    "i = 0\n",
    "while i < 20:\n",
    "  print('Name : ', names_train[i])\n",
    "  print('Intclass : ', intclass_train[i])\n",
    "  i+=1\n"
   ],
   "metadata": {
    "collapsed": false,
    "pycharm": {
     "name": "#%%\n"
    }
   }
  },
  {
   "cell_type": "code",
   "execution_count": 8,
   "outputs": [
    {
     "name": "stdout",
     "output_type": "stream",
     "text": [
      "Training set size :  67692\n",
      "Testing set size :  22688\n"
     ]
    }
   ],
   "source": [
    "print('Training set size : ',  names_train.shape[0])\n",
    "print('Testing set size : ', names_test.shape[0])"
   ],
   "metadata": {
    "collapsed": false,
    "pycharm": {
     "name": "#%%\n"
    }
   }
  },
  {
   "cell_type": "markdown",
   "source": [
    "Amount of different classes in the test set."
   ],
   "metadata": {
    "collapsed": false,
    "pycharm": {
     "name": "#%% md\n"
    }
   }
  },
  {
   "cell_type": "code",
   "execution_count": 9,
   "outputs": [
    {
     "data": {
      "text/plain": "131"
     },
     "execution_count": 9,
     "metadata": {},
     "output_type": "execute_result"
    }
   ],
   "source": [
    "n_classes = len(np.unique(intclass_test))\n",
    "n_classes\n"
   ],
   "metadata": {
    "collapsed": false,
    "pycharm": {
     "name": "#%%\n"
    }
   }
  },
  {
   "cell_type": "markdown",
   "source": [
    "Categorized matrix (0 or 1) for class of each image.\n",
    "\n",
    "\n",
    "1.   train_hot_class is a list containing (length of train images) arrays containing a list each (131 elements) where the i th element is 1, when the image is classified as intclass i (otherwise 0)\n",
    "2.   test_hot_class is a list containing (length of test images) arrays containing a list each (131 elements) where the i th element is 1, when the image is classified as intclass i (otherwise 0)\n",
    "\n"
   ],
   "metadata": {
    "collapsed": false,
    "pycharm": {
     "name": "#%% md\n"
    }
   }
  },
  {
   "cell_type": "code",
   "execution_count": 10,
   "outputs": [
    {
     "data": {
      "text/plain": "array([0., 0., 0., 0., 0., 0., 0., 0., 0., 0., 0., 0., 0., 0., 0., 0., 0.,\n       0., 0., 0., 0., 0., 0., 0., 0., 0., 0., 1., 0., 0., 0., 0., 0., 0.,\n       0., 0., 0., 0., 0., 0., 0., 0., 0., 0., 0., 0., 0., 0., 0., 0., 0.,\n       0., 0., 0., 0., 0., 0., 0., 0., 0., 0., 0., 0., 0., 0., 0., 0., 0.,\n       0., 0., 0., 0., 0., 0., 0., 0., 0., 0., 0., 0., 0., 0., 0., 0., 0.,\n       0., 0., 0., 0., 0., 0., 0., 0., 0., 0., 0., 0., 0., 0., 0., 0., 0.,\n       0., 0., 0., 0., 0., 0., 0., 0., 0., 0., 0., 0., 0., 0., 0., 0., 0.,\n       0., 0., 0., 0., 0., 0., 0., 0., 0., 0., 0., 0.], dtype=float32)"
     },
     "execution_count": 10,
     "metadata": {},
     "output_type": "execute_result"
    }
   ],
   "source": [
    "from keras.utils import np_utils\n",
    "train_hot_class = np_utils.to_categorical(intclass_train, n_classes)\n",
    "test_hot_class = np_utils.to_categorical(intclass_test, n_classes)\n",
    "train_hot_class[0]"
   ],
   "metadata": {
    "collapsed": false,
    "pycharm": {
     "name": "#%%\n"
    }
   }
  },
  {
   "cell_type": "markdown",
   "source": [
    "Change name of image to actual pixel array.\n",
    "The _images_array are the inputs (100x100 pixels with 3 color channels).\n"
   ],
   "metadata": {
    "collapsed": false,
    "pycharm": {
     "name": "#%% md\n"
    }
   }
  },
  {
   "cell_type": "code",
   "execution_count": 11,
   "outputs": [
    {
     "name": "stdout",
     "output_type": "stream",
     "text": [
      "Training set shape :  (67692, 100, 100, 3)\n",
      "Test set shape :  (22688, 100, 100, 3)\n",
      "1st training image shape  (100, 100, 3)\n"
     ]
    }
   ],
   "source": [
    "#from keras.preprocessing.image import array_to_img, img_to_array, load_img\n",
    "from keras.utils import array_to_img, img_to_array, load_img\n",
    "\n",
    "def convert_image_to_array(files):\n",
    "    images_as_array=[]\n",
    "    for file in files:\n",
    "        # Convert to Numpy Array\n",
    "        images_as_array.append(img_to_array(load_img(file)))\n",
    "    return images_as_array\n",
    "\n",
    "train_images_array = np.array(convert_image_to_array(names_train))\n",
    "print('Training set shape : ', train_images_array.shape)\n",
    "\n",
    "test_images_array = np.array(convert_image_to_array(names_test))\n",
    "print('Test set shape : ', test_images_array.shape)\n",
    "\n",
    "print('1st training image shape ',train_images_array[0].shape)"
   ],
   "metadata": {
    "collapsed": false,
    "pycharm": {
     "name": "#%%\n"
    }
   }
  },
  {
   "cell_type": "markdown",
   "source": [
    "Pixel arrays of one image (100x100 pixels, 3 color channels)."
   ],
   "metadata": {
    "collapsed": false,
    "pycharm": {
     "name": "#%% md\n"
    }
   }
  },
  {
   "cell_type": "code",
   "execution_count": null,
   "outputs": [],
   "source": [
    "print('1st training image as array',train_images_array[0])"
   ],
   "metadata": {
    "collapsed": false,
    "pycharm": {
     "name": "#%%\n"
    }
   }
  },
  {
   "cell_type": "markdown",
   "source": [
    "Rescale pixel values from 0-255 range to 0-1.\n",
    "\n",
    "\n",
    "1.   train_images_array is an array containing the normalized pixel values of the train images.\n",
    "2.   test_images_array is an array containing the normalized pixel values of the test images.\n",
    "3.   valid_images_array is an array containing the normalized pixel values of the validation images.\n",
    "\n"
   ],
   "metadata": {
    "collapsed": false,
    "pycharm": {
     "name": "#%% md\n"
    }
   }
  },
  {
   "cell_type": "code",
   "execution_count": 12,
   "outputs": [],
   "source": [
    "train_images_array = train_images_array.astype('float32')/255\n",
    "test_images_array = test_images_array.astype('float32')/255"
   ],
   "metadata": {
    "collapsed": false,
    "pycharm": {
     "name": "#%%\n"
    }
   }
  },
  {
   "cell_type": "code",
   "execution_count": null,
   "outputs": [],
   "source": [
    "train_hot_class[0]"
   ],
   "metadata": {
    "collapsed": false,
    "pycharm": {
     "name": "#%%\n"
    }
   }
  },
  {
   "cell_type": "markdown",
   "source": [
    "Split the train datasets into a train dataset and a validation dataset (~75/25).\n",
    "\n",
    "\n",
    "1.   names_train is a list of names of the first half of the train dataset (actual training dataset)\n",
    "2.   names_valid is a list of names of the second half of the train dataset (validation dataset)\n",
    "3.   train_hot_class is the first half of train_hot_class (actual training categorial classes)\n",
    "4.   valid_hot_class is the second half of train_hot_class (validation categorial classes)\n",
    "\n"
   ],
   "metadata": {
    "collapsed": false,
    "pycharm": {
     "name": "#%% md\n"
    }
   }
  },
  {
   "cell_type": "code",
   "execution_count": 13,
   "outputs": [
    {
     "name": "stdout",
     "output_type": "stream",
     "text": [
      "Vaildation structure of pixels :  (6770, 100, 100, 3)\n",
      "Vaildation structure of categorial classes : (6770, 131)\n",
      "Train structure of images:  (60922, 100, 100, 3)\n",
      "Train structure of categorial classes :  (60922, 131)\n",
      "Test structure of images:  (22688, 100, 100, 3)\n",
      "Test structure of categorial classes :  (22688, 131)\n"
     ]
    }
   ],
   "source": [
    "from sklearn.model_selection import train_test_split\n",
    "train_images_array, valid_images_array, train_hot_class, valid_hot_class = train_test_split(train_images_array, train_hot_class, test_size = 0.1, random_state=42)\n",
    "\n",
    "print('Vaildation structure of pixels : ', valid_images_array.shape)\n",
    "print('Vaildation structure of categorial classes :', valid_hot_class.shape)\n",
    "print('Train structure of images: ', train_images_array.shape)\n",
    "print('Train structure of categorial classes : ', train_hot_class.shape)\n",
    "print('Test structure of images: ', test_images_array.shape)\n",
    "print('Test structure of categorial classes : ', test_hot_class.shape)\n",
    "\n",
    "\n",
    "\n"
   ],
   "metadata": {
    "collapsed": false,
    "pycharm": {
     "name": "#%%\n"
    }
   }
  },
  {
   "cell_type": "code",
   "execution_count": null,
   "outputs": [],
   "source": [
    "#train_datasize = 3600 #40000\n",
    "#names_valid, names_train = names_train[train_datasize:], names_train[:train_datasize]\n",
    "\n",
    "#valid_hot_class, train_hot_class = train_hot_class[train_datasize:], train_hot_class[:train_datasize]\n",
    "#print('Vaildation structure of names : ', names_valid.shape)\n",
    "#print('Vaildation structure of categorial classes :', valid_hot_class.shape)\n",
    "#print('Train structure of names: ', names_train.shape)\n",
    "#print('Train structure of categorial classes : ', train_hot_class.shape)\n",
    "#print('Test structure of names: ', names_test.shape)\n",
    "#print('Test structure of categorial classes : ', test_hot_class.shape)"
   ],
   "metadata": {
    "collapsed": false,
    "pycharm": {
     "name": "#%%\n"
    }
   }
  },
  {
   "cell_type": "markdown",
   "source": [
    "Show 10 images."
   ],
   "metadata": {
    "collapsed": false,
    "pycharm": {
     "name": "#%% md\n"
    }
   }
  },
  {
   "cell_type": "code",
   "execution_count": null,
   "outputs": [],
   "source": [
    "import matplotlib.pyplot as plt\n",
    "\n",
    "fig = plt.figure(figsize =(30,5))\n",
    "for i in range(10):\n",
    "    ax = fig.add_subplot(2,5,i+1,xticks=[],yticks=[])\n",
    "    ax.imshow(np.squeeze(train_images_array[i]))\n",
    "    print(names_train[i])"
   ],
   "metadata": {
    "collapsed": false,
    "pycharm": {
     "name": "#%%\n"
    }
   }
  },
  {
   "cell_type": "markdown",
   "source": [
    "CNN architecture."
   ],
   "metadata": {
    "collapsed": false,
    "pycharm": {
     "name": "#%% md\n"
    }
   }
  },
  {
   "cell_type": "code",
   "execution_count": 28,
   "outputs": [
    {
     "name": "stdout",
     "output_type": "stream",
     "text": [
      "Model: \"sequential_11\"\n",
      "_________________________________________________________________\n",
      " Layer (type)                Output Shape              Param #   \n",
      "=================================================================\n",
      " flatten_10 (Flatten)        (None, 30000)             0         \n",
      "                                                                 \n",
      " dense_38 (Dense)            (None, 10)                300010    \n",
      "                                                                 \n",
      " batch_normalization_27 (Bat  (None, 10)               40        \n",
      " chNormalization)                                                \n",
      "                                                                 \n",
      " activation_27 (Activation)  (None, 10)                0         \n",
      "                                                                 \n",
      " dense_39 (Dense)            (None, 300)               3300      \n",
      "                                                                 \n",
      " batch_normalization_28 (Bat  (None, 300)              1200      \n",
      " chNormalization)                                                \n",
      "                                                                 \n",
      " activation_28 (Activation)  (None, 300)               0         \n",
      "                                                                 \n",
      " dropout_16 (Dropout)        (None, 300)               0         \n",
      "                                                                 \n",
      " dense_40 (Dense)            (None, 1000)              301000    \n",
      "                                                                 \n",
      " batch_normalization_29 (Bat  (None, 1000)             4000      \n",
      " chNormalization)                                                \n",
      "                                                                 \n",
      " activation_29 (Activation)  (None, 1000)              0         \n",
      "                                                                 \n",
      " dropout_17 (Dropout)        (None, 1000)              0         \n",
      "                                                                 \n",
      " dense_41 (Dense)            (None, 1000)              1001000   \n",
      "                                                                 \n",
      " batch_normalization_30 (Bat  (None, 1000)             4000      \n",
      " chNormalization)                                                \n",
      "                                                                 \n",
      " activation_30 (Activation)  (None, 1000)              0         \n",
      "                                                                 \n",
      " dropout_18 (Dropout)        (None, 1000)              0         \n",
      "                                                                 \n",
      " dense_42 (Dense)            (None, 100)               100100    \n",
      "                                                                 \n",
      " batch_normalization_31 (Bat  (None, 100)              400       \n",
      " chNormalization)                                                \n",
      "                                                                 \n",
      " activation_31 (Activation)  (None, 100)               0         \n",
      "                                                                 \n",
      " dropout_19 (Dropout)        (None, 100)               0         \n",
      "                                                                 \n",
      " dense_43 (Dense)            (None, 131)               13231     \n",
      "                                                                 \n",
      "=================================================================\n",
      "Total params: 1,728,281\n",
      "Trainable params: 1,723,461\n",
      "Non-trainable params: 4,820\n",
      "_________________________________________________________________\n"
     ]
    }
   ],
   "source": [
    "from tensorflow.keras.callbacks import EarlyStopping, ReduceLROnPlateau\n",
    "from tensorflow.keras.preprocessing.image import ImageDataGenerator\n",
    "from tensorflow.keras.models import Sequential\n",
    "from keras.layers import Input, Dense, Dropout, Activation, Flatten\n",
    "from keras.layers import Conv2D, MaxPool2D, AveragePooling2D, BatchNormalization\n",
    "import os\n",
    "\n",
    "model = Sequential()\n",
    "\n",
    "model.add(Input(shape=(100,100,3)))\n",
    "model.add(Flatten())\n",
    "\n",
    "model.add(Dense(10))\n",
    "model.add(BatchNormalization())\n",
    "model.add(Activation(activation='relu'))\n",
    "\n",
    "#model.add(Flatten())\n",
    "\n",
    "model.add(Dense(300)) #900\n",
    "model.add(BatchNormalization())\n",
    "model.add(Activation(activation='relu'))\n",
    "model.add(Dropout(0.5))\n",
    "\n",
    "model.add(Dense(1000)) #900\n",
    "model.add(BatchNormalization())\n",
    "model.add(Activation(activation='relu'))\n",
    "model.add(Dropout(0.5))\n",
    "\n",
    "model.add(Dense(1000)) #900\n",
    "model.add(BatchNormalization())\n",
    "model.add(Activation(activation='relu'))\n",
    "model.add(Dropout(0.5))\n",
    "\n",
    "model.add(Dense(100)) #900\n",
    "model.add(BatchNormalization())\n",
    "model.add(Activation(activation='relu'))\n",
    "model.add(Dropout(0.5))\n",
    "\n",
    "model.add(Dense(131,activation=\"softmax\"))\n",
    "\n",
    "model.summary()"
   ],
   "metadata": {
    "collapsed": false,
    "pycharm": {
     "name": "#%%\n"
    }
   }
  },
  {
   "cell_type": "code",
   "execution_count": 29,
   "outputs": [
    {
     "name": "stdout",
     "output_type": "stream",
     "text": [
      "Compiled!\n"
     ]
    }
   ],
   "source": [
    "model.compile(loss = 'categorical_crossentropy',\n",
    "              optimizer = \"adam\",\n",
    "              metrics = ['accuracy'])\n",
    "print('Compiled!')"
   ],
   "metadata": {
    "collapsed": false,
    "pycharm": {
     "name": "#%%\n"
    }
   }
  },
  {
   "cell_type": "code",
   "execution_count": 30,
   "outputs": [
    {
     "name": "stdout",
     "output_type": "stream",
     "text": [
      "Epoch 1/15\n",
      "\n",
      "Epoch 1: val_loss improved from inf to 1.41827, saving model to ann.hdf5\n",
      "1904/1904 - 26s - loss: 2.5950 - accuracy: 0.3046 - val_loss: 1.4183 - val_accuracy: 0.5168 - 26s/epoch - 14ms/step\n",
      "Epoch 2/15\n",
      "\n",
      "Epoch 2: val_loss improved from 1.41827 to 0.55451, saving model to ann.hdf5\n",
      "1904/1904 - 23s - loss: 1.3783 - accuracy: 0.5715 - val_loss: 0.5545 - val_accuracy: 0.8368 - 23s/epoch - 12ms/step\n",
      "Epoch 3/15\n",
      "\n",
      "Epoch 3: val_loss improved from 0.55451 to 0.48946, saving model to ann.hdf5\n",
      "1904/1904 - 22s - loss: 1.1087 - accuracy: 0.6520 - val_loss: 0.4895 - val_accuracy: 0.8510 - 22s/epoch - 11ms/step\n",
      "Epoch 4/15\n",
      "\n",
      "Epoch 4: val_loss improved from 0.48946 to 0.33889, saving model to ann.hdf5\n",
      "1904/1904 - 21s - loss: 0.9538 - accuracy: 0.6994 - val_loss: 0.3389 - val_accuracy: 0.9056 - 21s/epoch - 11ms/step\n",
      "Epoch 5/15\n",
      "\n",
      "Epoch 5: val_loss did not improve from 0.33889\n",
      "1904/1904 - 21s - loss: 0.8658 - accuracy: 0.7256 - val_loss: 0.7890 - val_accuracy: 0.7303 - 21s/epoch - 11ms/step\n",
      "Epoch 6/15\n",
      "\n",
      "Epoch 6: val_loss did not improve from 0.33889\n",
      "1904/1904 - 22s - loss: 0.8088 - accuracy: 0.7450 - val_loss: 0.8455 - val_accuracy: 0.7554 - 22s/epoch - 11ms/step\n",
      "Epoch 7/15\n",
      "\n",
      "Epoch 7: val_loss improved from 0.33889 to 0.26977, saving model to ann.hdf5\n",
      "1904/1904 - 22s - loss: 0.7473 - accuracy: 0.7640 - val_loss: 0.2698 - val_accuracy: 0.9168 - 22s/epoch - 11ms/step\n",
      "Epoch 8/15\n",
      "\n",
      "Epoch 8: val_loss did not improve from 0.26977\n",
      "1904/1904 - 21s - loss: 0.7052 - accuracy: 0.7775 - val_loss: 0.3175 - val_accuracy: 0.8959 - 21s/epoch - 11ms/step\n",
      "Epoch 9/15\n",
      "\n",
      "Epoch 9: val_loss improved from 0.26977 to 0.22665, saving model to ann.hdf5\n",
      "1904/1904 - 22s - loss: 0.6722 - accuracy: 0.7887 - val_loss: 0.2267 - val_accuracy: 0.9312 - 22s/epoch - 12ms/step\n",
      "Epoch 10/15\n",
      "\n",
      "Epoch 10: val_loss improved from 0.22665 to 0.17116, saving model to ann.hdf5\n",
      "1904/1904 - 21s - loss: 0.6456 - accuracy: 0.7966 - val_loss: 0.1712 - val_accuracy: 0.9480 - 21s/epoch - 11ms/step\n",
      "Epoch 11/15\n",
      "\n",
      "Epoch 11: val_loss improved from 0.17116 to 0.17017, saving model to ann.hdf5\n",
      "1904/1904 - 22s - loss: 0.6254 - accuracy: 0.8052 - val_loss: 0.1702 - val_accuracy: 0.9477 - 22s/epoch - 11ms/step\n",
      "Epoch 12/15\n",
      "\n",
      "Epoch 12: val_loss did not improve from 0.17017\n",
      "1904/1904 - 21s - loss: 0.5936 - accuracy: 0.8137 - val_loss: 0.2839 - val_accuracy: 0.9018 - 21s/epoch - 11ms/step\n",
      "Epoch 13/15\n",
      "\n",
      "Epoch 13: val_loss improved from 0.17017 to 0.13822, saving model to ann.hdf5\n",
      "1904/1904 - 22s - loss: 0.5714 - accuracy: 0.8219 - val_loss: 0.1382 - val_accuracy: 0.9582 - 22s/epoch - 11ms/step\n",
      "Epoch 14/15\n",
      "\n",
      "Epoch 14: val_loss did not improve from 0.13822\n",
      "1904/1904 - 22s - loss: 0.5580 - accuracy: 0.8251 - val_loss: 0.4959 - val_accuracy: 0.8394 - 22s/epoch - 11ms/step\n",
      "Epoch 15/15\n",
      "\n",
      "Epoch 15: val_loss improved from 0.13822 to 0.12859, saving model to ann.hdf5\n",
      "1904/1904 - 22s - loss: 0.5373 - accuracy: 0.8334 - val_loss: 0.1286 - val_accuracy: 0.9622 - 22s/epoch - 11ms/step\n"
     ]
    }
   ],
   "source": [
    "from keras.callbacks import ModelCheckpoint\n",
    "\n",
    "checkpointer = ModelCheckpoint(filepath = 'ann.hdf5', verbose = 1, save_best_only = True)\n",
    "\n",
    "history = model.fit(train_images_array, train_hot_class,\n",
    "        batch_size = 32, #32\n",
    "        epochs = 15, #15\n",
    "        validation_data = (valid_images_array, valid_hot_class),\n",
    "        callbacks = [checkpointer],\n",
    "        verbose = 2, shuffle = True)"
   ],
   "metadata": {
    "collapsed": false,
    "pycharm": {
     "name": "#%%\n"
    }
   }
  },
  {
   "cell_type": "code",
   "execution_count": null,
   "outputs": [],
   "source": [
    "history"
   ],
   "metadata": {
    "collapsed": false,
    "pycharm": {
     "name": "#%%\n"
    }
   }
  },
  {
   "cell_type": "code",
   "execution_count": 31,
   "outputs": [
    {
     "name": "stdout",
     "output_type": "stream",
     "text": [
      "\n",
      " Test accuracy: 0.8247091174125671\n"
     ]
    }
   ],
   "source": [
    "model.load_weights('ann.hdf5')\n",
    "score = model.evaluate(test_images_array, test_hot_class, verbose = 0)\n",
    "print('\\n', 'Test accuracy:', score[1])"
   ],
   "metadata": {
    "collapsed": false,
    "pycharm": {
     "name": "#%%\n"
    }
   }
  },
  {
   "cell_type": "code",
   "execution_count": null,
   "outputs": [],
   "source": [
    "model.save('/savedmodel/fullCNN')"
   ],
   "metadata": {
    "collapsed": false,
    "pycharm": {
     "name": "#%%\n"
    }
   }
  },
  {
   "cell_type": "code",
   "execution_count": null,
   "outputs": [],
   "source": [
    "from keras.models import Model\n",
    "layer_outputs = [layer.output for layer in model.layers]\n",
    "activation_model = Model(inputs=model.input, outputs=layer_outputs)\n",
    "activations = activation_model.predict(train_images_array[10].reshape(1,100,100,1))\n",
    " \n",
    "def display_activation(activations, col_size, row_size, act_index): \n",
    "    activation = activations[act_index]\n",
    "    activation_index=0\n",
    "    fig, ax = plt.subplots(row_size, col_size, figsize=(row_size*2.5,col_size*1.5))\n",
    "    for row in range(0,row_size):\n",
    "        for col in range(0,col_size):\n",
    "            ax[row][col].imshow(activation[0, :, :, activation_index], cmap='gray')\n",
    "            activation_index += 1"
   ],
   "metadata": {
    "collapsed": false,
    "pycharm": {
     "name": "#%%\n"
    }
   }
  },
  {
   "cell_type": "code",
   "execution_count": null,
   "outputs": [],
   "source": [
    "history.model.weights"
   ],
   "metadata": {
    "collapsed": false,
    "pycharm": {
     "name": "#%%\n"
    }
   }
  },
  {
   "cell_type": "code",
   "execution_count": null,
   "outputs": [],
   "source": [
    "import matplotlib.pyplot as plt\n",
    "y_pred = model.predict(test_images_array)\n",
    "\n",
    "fig = plt.figure(figsize=(32, 30))\n",
    "for i, idx in enumerate(np.random.choice(test_images_array.shape[0], size = 32, replace = False)):\n",
    "    ax = fig.add_subplot(8, 6, i + 1, xticks = [], yticks = [])\n",
    "    ax.imshow(np.squeeze(test_images_array[idx]))\n",
    "    pred_idx = np.argmax(y_pred[idx])\n",
    "    true_idx = np.argmax(test_hot_class[idx])\n",
    "    ax.set_title(\"{} ({})\".format(stringclass_test[pred_idx], stringclass_test[true_idx]),\n",
    "                 color = (\"green\" if pred_idx == true_idx else \"red\"))"
   ],
   "metadata": {
    "collapsed": false,
    "pycharm": {
     "name": "#%%\n"
    }
   }
  },
  {
   "cell_type": "markdown",
   "source": [
    "Model accuracy"
   ],
   "metadata": {
    "collapsed": false,
    "pycharm": {
     "name": "#%% md\n"
    }
   }
  },
  {
   "cell_type": "code",
   "execution_count": null,
   "outputs": [],
   "source": [
    "plt.figure(figsize = (6, 5))\n",
    "plt.plot(history.history['accuracy'], color = 'r')\n",
    "plt.plot(history.history['val_accuracy'], color = 'b')\n",
    "plt.title('Model Accuracy', weight = 'bold', fontsize = 16)\n",
    "plt.ylabel('accuracy', weight = 'bold', fontsize = 14)\n",
    "plt.xlabel('epoch', weight = 'bold', fontsize = 14)\n",
    "plt.ylim(0.4, 1)\n",
    "plt.xticks(weight = 'bold', fontsize = 12)\n",
    "plt.yticks(weight = 'bold', fontsize = 12)\n",
    "plt.legend(['train', 'val'], loc = 'lower right', prop = {'size': 14})\n",
    "plt.grid(color = 'y', linewidth = '0.5')\n",
    "plt.show()"
   ],
   "metadata": {
    "collapsed": false,
    "pycharm": {
     "name": "#%%\n"
    }
   }
  },
  {
   "cell_type": "markdown",
   "source": [
    "Show prediction."
   ],
   "metadata": {
    "collapsed": false,
    "pycharm": {
     "name": "#%% md\n"
    }
   }
  },
  {
   "cell_type": "code",
   "execution_count": null,
   "outputs": [],
   "source": [
    "import matplotlib.pyplot as plt \n",
    "plt.figure(1)  \n",
    "   \n",
    " # summarize history for accuracy  \n",
    "   \n",
    "plt.subplot(211)  \n",
    "plt.plot(history.history['accuracy'])  \n",
    "plt.plot(history.history['val_accuracy'])  \n",
    "plt.title('model accuracy')  \n",
    "plt.ylabel('accuracy')  \n",
    "plt.xlabel('epoch')  \n",
    "plt.legend(['train', 'validation'], loc = 'lower right')\n",
    "   \n",
    " # summarize history for loss  \n",
    "   \n",
    "plt.subplot(212)  \n",
    "plt.plot(history.history['loss'])  \n",
    "plt.plot(history.history['val_loss'])  \n",
    "plt.title('model loss')  \n",
    "plt.ylabel('loss')  \n",
    "plt.xlabel('epoch')  \n",
    "plt.legend(['train', 'validation'], loc = 'upper right')\n",
    "plt.show()"
   ],
   "metadata": {
    "collapsed": false,
    "pycharm": {
     "name": "#%%\n"
    }
   }
  },
  {
   "cell_type": "code",
   "execution_count": null,
   "outputs": [],
   "source": [],
   "metadata": {
    "collapsed": false,
    "pycharm": {
     "name": "#%%\n"
    }
   }
  }
 ]
}