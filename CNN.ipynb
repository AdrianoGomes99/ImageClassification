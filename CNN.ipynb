{
 "cells": [
  {
   "cell_type": "markdown",
   "source": [
    "Random Forests for (Fruits and Vegetables) Image Classification"
   ],
   "metadata": {
    "collapsed": false
   }
  },
  {
   "cell_type": "markdown",
   "source": [
    "Import numpy and sklearn method."
   ],
   "metadata": {
    "collapsed": false
   }
  },
  {
   "cell_type": "code",
   "execution_count": 1,
   "outputs": [
    {
     "name": "stdout",
     "output_type": "stream",
     "text": [
      "1.20.1\n"
     ]
    }
   ],
   "source": [
    "import numpy as np\n",
    "from sklearn.datasets import load_files\n",
    "\n",
    "print(np.__version__)"
   ],
   "metadata": {
    "collapsed": false
   }
  },
  {
   "cell_type": "markdown",
   "source": [
    "Copy dataset from git repo."
   ],
   "metadata": {
    "collapsed": false
   }
  },
  {
   "cell_type": "code",
   "execution_count": 2,
   "outputs": [
    {
     "name": "stderr",
     "output_type": "stream",
     "text": [
      "fatal: destination path 'Fruit-Images-Dataset' already exists and is not an empty directory.\n"
     ]
    }
   ],
   "source": [
    "!git clone https://github.com/Horea94/Fruit-Images-Dataset"
   ],
   "metadata": {
    "collapsed": false
   }
  },
  {
   "cell_type": "markdown",
   "source": [
    "Set the path directory to the cloned test and train data.\n",
    "load_dataset() returns the filenames, integer classes and string classes that are stored in file directory.\n",
    "\n",
    "\n",
    "1.   names_train is a vector that contains the filepath of all images from the training set\n",
    "2.   names_test is a vector that contains the filepath of all images from the test set\n",
    "3.   intclass_train is a vector containing the int class values (1-131) of all images from the training set\n",
    "4.   intclass_test is a vector containing the int class values (1-131) of all images from the test set\n",
    "5.   stringclass_train is a vector containing the string label of class of all images from the training set\n",
    "6.   stringclass_test is a vector containing the string label of class of all images from the test set\n",
    "\n",
    "\n",
    "\n",
    "\n"
   ],
   "metadata": {
    "collapsed": false
   }
  },
  {
   "cell_type": "code",
   "execution_count": 3,
   "outputs": [
    {
     "data": {
      "text/plain": "'C:\\\\Users\\\\Adriano\\\\Desktop\\\\MCD\\\\FAA\\\\Project1\\\\ImageClassification'"
     },
     "execution_count": 3,
     "metadata": {},
     "output_type": "execute_result"
    }
   ],
   "source": [
    "import os\n",
    "base_dir = os.getcwd()\n",
    "base_dir"
   ],
   "metadata": {
    "collapsed": false
   }
  },
  {
   "cell_type": "code",
   "execution_count": 4,
   "outputs": [
    {
     "name": "stdout",
     "output_type": "stream",
     "text": [
      "Loading complete!\n",
      "Training set size :  67692\n",
      "Testing set size :  22688\n",
      "['Apple Braeburn' 'Apple Crimson Snow' 'Apple Golden 1' 'Apple Golden 2'\n",
      " 'Apple Golden 3' 'Apple Granny Smith' 'Apple Pink Lady' 'Apple Red 1'\n",
      " 'Apple Red 2' 'Apple Red 3' 'Apple Red Delicious' 'Apple Red Yellow 1'\n",
      " 'Apple Red Yellow 2' 'Apricot' 'Avocado' 'Avocado ripe' 'Banana'\n",
      " 'Banana Lady Finger' 'Banana Red' 'Beetroot' 'Blueberry' 'Cactus fruit'\n",
      " 'Cantaloupe 1' 'Cantaloupe 2' 'Carambula' 'Cauliflower' 'Cherry 1'\n",
      " 'Cherry 2' 'Cherry Rainier' 'Cherry Wax Black' 'Cherry Wax Red'\n",
      " 'Cherry Wax Yellow' 'Chestnut' 'Clementine' 'Cocos' 'Corn' 'Corn Husk'\n",
      " 'Cucumber Ripe' 'Cucumber Ripe 2' 'Dates' 'Eggplant' 'Fig' 'Ginger Root'\n",
      " 'Granadilla' 'Grape Blue' 'Grape Pink' 'Grape White' 'Grape White 2'\n",
      " 'Grape White 3' 'Grape White 4' 'Grapefruit Pink' 'Grapefruit White'\n",
      " 'Guava' 'Hazelnut' 'Huckleberry' 'Kaki' 'Kiwi' 'Kohlrabi' 'Kumquats'\n",
      " 'Lemon' 'Lemon Meyer' 'Limes' 'Lychee' 'Mandarine' 'Mango' 'Mango Red'\n",
      " 'Mangostan' 'Maracuja' 'Melon Piel de Sapo' 'Mulberry' 'Nectarine'\n",
      " 'Nectarine Flat' 'Nut Forest' 'Nut Pecan' 'Onion Red' 'Onion Red Peeled'\n",
      " 'Onion White' 'Orange' 'Papaya' 'Passion Fruit' 'Peach' 'Peach 2'\n",
      " 'Peach Flat' 'Pear' 'Pear 2' 'Pear Abate' 'Pear Forelle' 'Pear Kaiser'\n",
      " 'Pear Monster' 'Pear Red' 'Pear Stone' 'Pear Williams' 'Pepino'\n",
      " 'Pepper Green' 'Pepper Orange' 'Pepper Red' 'Pepper Yellow' 'Physalis'\n",
      " 'Physalis with Husk' 'Pineapple' 'Pineapple Mini' 'Pitahaya Red' 'Plum'\n",
      " 'Plum 2' 'Plum 3' 'Pomegranate' 'Pomelo Sweetie' 'Potato Red'\n",
      " 'Potato Red Washed' 'Potato Sweet' 'Potato White' 'Quince' 'Rambutan'\n",
      " 'Raspberry' 'Redcurrant' 'Salak' 'Strawberry' 'Strawberry Wedge'\n",
      " 'Tamarillo' 'Tangelo' 'Tomato 1' 'Tomato 2' 'Tomato 3' 'Tomato 4'\n",
      " 'Tomato Cherry Red' 'Tomato Heart' 'Tomato Maroon' 'Tomato Yellow'\n",
      " 'Tomato not Ripened' 'Walnut' 'Watermelon']\n",
      "(67692,)\n",
      "(131,)\n"
     ]
    }
   ],
   "source": [
    "train_dir = base_dir+'/Fruit-Images-Dataset/Training/'\n",
    "test_dir = base_dir+'/Fruit-Images-Dataset/Test/'\n",
    "\n",
    "def load_dataset(path):\n",
    "    data = load_files(path)\n",
    "    files = np.array(data['filenames'])\n",
    "    targets = np.array(data['target'])\n",
    "    target_labels = np.array(data['target_names'])\n",
    "    return files, targets, target_labels\n",
    "\n",
    "names_train, intclass_train, stringclass_train = load_dataset(train_dir)\n",
    "names_test, intclass_test, stringclass_test = load_dataset(test_dir)\n",
    "\n",
    "print('Loading complete!')\n",
    "print('Training set size : ',  names_train.shape[0])\n",
    "print('Testing set size : ', names_test.shape[0])\n",
    "print(stringclass_train)\n",
    "print(intclass_train.shape)\n",
    "print(stringclass_train.shape)"
   ],
   "metadata": {
    "collapsed": false
   }
  },
  {
   "cell_type": "code",
   "execution_count": 5,
   "outputs": [
    {
     "name": "stdout",
     "output_type": "stream",
     "text": [
      "(131,)\n",
      "(131,)\n"
     ]
    }
   ],
   "source": [
    "print(stringclass_train.shape)\n",
    "print(stringclass_test.shape)\n"
   ],
   "metadata": {
    "collapsed": false
   }
  },
  {
   "cell_type": "markdown",
   "source": [
    "Show distribution of images to the different classes."
   ],
   "metadata": {
    "collapsed": false
   }
  },
  {
   "cell_type": "code",
   "execution_count": 6,
   "outputs": [
    {
     "data": {
      "text/plain": "<Figure size 432x288 with 1 Axes>",
      "image/png": "[encoded data removed]"
     },
     "metadata": {},
     "output_type": "display_data"
    }
   ],
   "source": [
    "import matplotlib.pyplot as plt\n",
    "\n",
    "(intclass, counts) = np.unique(intclass_train, return_counts=True)\n",
    "plt.bar(intclass, counts)\n",
    "plt.title('distribution of full training and test data')\n",
    "full_train_frequencies = np.asarray((intclass, counts)).T\n",
    "\n",
    "(intclass, counts) = np.unique(intclass_test, return_counts=True)\n",
    "plt.bar(intclass, counts)\n",
    "full_test_frequencies = np.asarray((intclass, counts)).T"
   ],
   "metadata": {
    "collapsed": false
   }
  },
  {
   "cell_type": "markdown",
   "source": [
    "Datasets can be reduced for compiling: original size of the training dataset is 67692 images; original size of the test dataset is 22688 images."
   ],
   "metadata": {
    "collapsed": false
   }
  },
  {
   "cell_type": "code",
   "execution_count": 7,
   "outputs": [
    {
     "name": "stdout",
     "output_type": "stream",
     "text": [
      "Training set size :  67692\n",
      "Testing set size :  22688\n",
      "['Apple Braeburn' 'Apple Crimson Snow' 'Apple Golden 1' 'Apple Golden 2'\n",
      " 'Apple Golden 3' 'Apple Granny Smith' 'Apple Pink Lady' 'Apple Red 1'\n",
      " 'Apple Red 2' 'Apple Red 3' 'Apple Red Delicious' 'Apple Red Yellow 1'\n",
      " 'Apple Red Yellow 2' 'Apricot' 'Avocado' 'Avocado ripe' 'Banana'\n",
      " 'Banana Lady Finger' 'Banana Red' 'Beetroot' 'Blueberry' 'Cactus fruit'\n",
      " 'Cantaloupe 1' 'Cantaloupe 2' 'Carambula' 'Cauliflower' 'Cherry 1'\n",
      " 'Cherry 2' 'Cherry Rainier' 'Cherry Wax Black' 'Cherry Wax Red'\n",
      " 'Cherry Wax Yellow' 'Chestnut' 'Clementine' 'Cocos' 'Corn' 'Corn Husk'\n",
      " 'Cucumber Ripe' 'Cucumber Ripe 2' 'Dates' 'Eggplant' 'Fig' 'Ginger Root'\n",
      " 'Granadilla' 'Grape Blue' 'Grape Pink' 'Grape White' 'Grape White 2'\n",
      " 'Grape White 3' 'Grape White 4' 'Grapefruit Pink' 'Grapefruit White'\n",
      " 'Guava' 'Hazelnut' 'Huckleberry' 'Kaki' 'Kiwi' 'Kohlrabi' 'Kumquats'\n",
      " 'Lemon' 'Lemon Meyer' 'Limes' 'Lychee' 'Mandarine' 'Mango' 'Mango Red'\n",
      " 'Mangostan' 'Maracuja' 'Melon Piel de Sapo' 'Mulberry' 'Nectarine'\n",
      " 'Nectarine Flat' 'Nut Forest' 'Nut Pecan' 'Onion Red' 'Onion Red Peeled'\n",
      " 'Onion White' 'Orange' 'Papaya' 'Passion Fruit' 'Peach' 'Peach 2'\n",
      " 'Peach Flat' 'Pear' 'Pear 2' 'Pear Abate' 'Pear Forelle' 'Pear Kaiser'\n",
      " 'Pear Monster' 'Pear Red' 'Pear Stone' 'Pear Williams' 'Pepino'\n",
      " 'Pepper Green' 'Pepper Orange' 'Pepper Red' 'Pepper Yellow' 'Physalis'\n",
      " 'Physalis with Husk' 'Pineapple' 'Pineapple Mini' 'Pitahaya Red' 'Plum'\n",
      " 'Plum 2' 'Plum 3' 'Pomegranate' 'Pomelo Sweetie' 'Potato Red'\n",
      " 'Potato Red Washed' 'Potato Sweet' 'Potato White' 'Quince' 'Rambutan'\n",
      " 'Raspberry' 'Redcurrant' 'Salak' 'Strawberry' 'Strawberry Wedge'\n",
      " 'Tamarillo' 'Tangelo' 'Tomato 1' 'Tomato 2' 'Tomato 3' 'Tomato 4'\n",
      " 'Tomato Cherry Red' 'Tomato Heart' 'Tomato Maroon' 'Tomato Yellow'\n",
      " 'Tomato not Ripened' 'Walnut' 'Watermelon']\n",
      "(67692,)\n",
      "(22688,)\n"
     ]
    }
   ],
   "source": [
    "#train_datasize = 40000\n",
    "#test_datasize = 10000\n",
    "#names_train = names_train[:train_datasize]\n",
    "#names_test = names_test[:test_datasize]\n",
    "#intclass_train = intclass_train[:train_datasize]\n",
    "#intclass_test = intclass_test[:test_datasize]\n",
    "print('Training set size : ',  names_train.shape[0])\n",
    "print('Testing set size : ', names_test.shape[0])\n",
    "print(stringclass_train)\n",
    "print(intclass_train.shape)\n",
    "print(intclass_test.shape)"
   ],
   "metadata": {
    "collapsed": false
   }
  },
  {
   "cell_type": "code",
   "execution_count": 8,
   "outputs": [
    {
     "data": {
      "text/plain": "<Figure size 432x288 with 1 Axes>",
      "image/png": "[encoded data removed]"
     },
     "metadata": {},
     "output_type": "display_data"
    }
   ],
   "source": [
    "(intclass, counts) = np.unique(intclass_train, return_counts=True)\n",
    "plt.bar(intclass, counts)\n",
    "plt.title('distribution of reduced training and test data')\n",
    "reduced_train_frequencies = np.asarray((intclass, counts)).T\n",
    "\n",
    "(intclass, counts) = np.unique(intclass_test, return_counts=True)\n",
    "plt.bar(intclass, counts)\n",
    "reduced_test_frequencies = np.asarray((intclass, counts)).T\n",
    "\n"
   ],
   "metadata": {
    "collapsed": false
   }
  },
  {
   "cell_type": "code",
   "execution_count": 9,
   "outputs": [
    {
     "name": "stdout",
     "output_type": "stream",
     "text": [
      "[[0 0]\n",
      " [0 0]\n",
      " [0 0]\n",
      " [0 0]\n",
      " [0 0]\n",
      " [0 0]\n",
      " [0 0]\n",
      " [0 0]\n",
      " [0 0]\n",
      " [0 0]\n",
      " [0 0]\n",
      " [0 0]\n",
      " [0 0]\n",
      " [0 0]\n",
      " [0 0]\n",
      " [0 0]\n",
      " [0 0]\n",
      " [0 0]\n",
      " [0 0]\n",
      " [0 0]\n",
      " [0 0]\n",
      " [0 0]\n",
      " [0 0]\n",
      " [0 0]\n",
      " [0 0]\n",
      " [0 0]\n",
      " [0 0]\n",
      " [0 0]\n",
      " [0 0]\n",
      " [0 0]\n",
      " [0 0]\n",
      " [0 0]\n",
      " [0 0]\n",
      " [0 0]\n",
      " [0 0]\n",
      " [0 0]\n",
      " [0 0]\n",
      " [0 0]\n",
      " [0 0]\n",
      " [0 0]\n",
      " [0 0]\n",
      " [0 0]\n",
      " [0 0]\n",
      " [0 0]\n",
      " [0 0]\n",
      " [0 0]\n",
      " [0 0]\n",
      " [0 0]\n",
      " [0 0]\n",
      " [0 0]\n",
      " [0 0]\n",
      " [0 0]\n",
      " [0 0]\n",
      " [0 0]\n",
      " [0 0]\n",
      " [0 0]\n",
      " [0 0]\n",
      " [0 0]\n",
      " [0 0]\n",
      " [0 0]\n",
      " [0 0]\n",
      " [0 0]\n",
      " [0 0]\n",
      " [0 0]\n",
      " [0 0]\n",
      " [0 0]\n",
      " [0 0]\n",
      " [0 0]\n",
      " [0 0]\n",
      " [0 0]\n",
      " [0 0]\n",
      " [0 0]\n",
      " [0 0]\n",
      " [0 0]\n",
      " [0 0]\n",
      " [0 0]\n",
      " [0 0]\n",
      " [0 0]\n",
      " [0 0]\n",
      " [0 0]\n",
      " [0 0]\n",
      " [0 0]\n",
      " [0 0]\n",
      " [0 0]\n",
      " [0 0]\n",
      " [0 0]\n",
      " [0 0]\n",
      " [0 0]\n",
      " [0 0]\n",
      " [0 0]\n",
      " [0 0]\n",
      " [0 0]\n",
      " [0 0]\n",
      " [0 0]\n",
      " [0 0]\n",
      " [0 0]\n",
      " [0 0]\n",
      " [0 0]\n",
      " [0 0]\n",
      " [0 0]\n",
      " [0 0]\n",
      " [0 0]\n",
      " [0 0]\n",
      " [0 0]\n",
      " [0 0]\n",
      " [0 0]\n",
      " [0 0]\n",
      " [0 0]\n",
      " [0 0]\n",
      " [0 0]\n",
      " [0 0]\n",
      " [0 0]\n",
      " [0 0]\n",
      " [0 0]\n",
      " [0 0]\n",
      " [0 0]\n",
      " [0 0]\n",
      " [0 0]\n",
      " [0 0]\n",
      " [0 0]\n",
      " [0 0]\n",
      " [0 0]\n",
      " [0 0]\n",
      " [0 0]\n",
      " [0 0]\n",
      " [0 0]\n",
      " [0 0]\n",
      " [0 0]\n",
      " [0 0]\n",
      " [0 0]\n",
      " [0 0]]\n",
      "[[0 0]\n",
      " [0 0]\n",
      " [0 0]\n",
      " [0 0]\n",
      " [0 0]\n",
      " [0 0]\n",
      " [0 0]\n",
      " [0 0]\n",
      " [0 0]\n",
      " [0 0]\n",
      " [0 0]\n",
      " [0 0]\n",
      " [0 0]\n",
      " [0 0]\n",
      " [0 0]\n",
      " [0 0]\n",
      " [0 0]\n",
      " [0 0]\n",
      " [0 0]\n",
      " [0 0]\n",
      " [0 0]\n",
      " [0 0]\n",
      " [0 0]\n",
      " [0 0]\n",
      " [0 0]\n",
      " [0 0]\n",
      " [0 0]\n",
      " [0 0]\n",
      " [0 0]\n",
      " [0 0]\n",
      " [0 0]\n",
      " [0 0]\n",
      " [0 0]\n",
      " [0 0]\n",
      " [0 0]\n",
      " [0 0]\n",
      " [0 0]\n",
      " [0 0]\n",
      " [0 0]\n",
      " [0 0]\n",
      " [0 0]\n",
      " [0 0]\n",
      " [0 0]\n",
      " [0 0]\n",
      " [0 0]\n",
      " [0 0]\n",
      " [0 0]\n",
      " [0 0]\n",
      " [0 0]\n",
      " [0 0]\n",
      " [0 0]\n",
      " [0 0]\n",
      " [0 0]\n",
      " [0 0]\n",
      " [0 0]\n",
      " [0 0]\n",
      " [0 0]\n",
      " [0 0]\n",
      " [0 0]\n",
      " [0 0]\n",
      " [0 0]\n",
      " [0 0]\n",
      " [0 0]\n",
      " [0 0]\n",
      " [0 0]\n",
      " [0 0]\n",
      " [0 0]\n",
      " [0 0]\n",
      " [0 0]\n",
      " [0 0]\n",
      " [0 0]\n",
      " [0 0]\n",
      " [0 0]\n",
      " [0 0]\n",
      " [0 0]\n",
      " [0 0]\n",
      " [0 0]\n",
      " [0 0]\n",
      " [0 0]\n",
      " [0 0]\n",
      " [0 0]\n",
      " [0 0]\n",
      " [0 0]\n",
      " [0 0]\n",
      " [0 0]\n",
      " [0 0]\n",
      " [0 0]\n",
      " [0 0]\n",
      " [0 0]\n",
      " [0 0]\n",
      " [0 0]\n",
      " [0 0]\n",
      " [0 0]\n",
      " [0 0]\n",
      " [0 0]\n",
      " [0 0]\n",
      " [0 0]\n",
      " [0 0]\n",
      " [0 0]\n",
      " [0 0]\n",
      " [0 0]\n",
      " [0 0]\n",
      " [0 0]\n",
      " [0 0]\n",
      " [0 0]\n",
      " [0 0]\n",
      " [0 0]\n",
      " [0 0]\n",
      " [0 0]\n",
      " [0 0]\n",
      " [0 0]\n",
      " [0 0]\n",
      " [0 0]\n",
      " [0 0]\n",
      " [0 0]\n",
      " [0 0]\n",
      " [0 0]\n",
      " [0 0]\n",
      " [0 0]\n",
      " [0 0]\n",
      " [0 0]\n",
      " [0 0]\n",
      " [0 0]\n",
      " [0 0]\n",
      " [0 0]\n",
      " [0 0]\n",
      " [0 0]\n",
      " [0 0]\n",
      " [0 0]\n",
      " [0 0]\n",
      " [0 0]]\n"
     ]
    }
   ],
   "source": [
    "difference_train = full_train_frequencies - reduced_train_frequencies\n",
    "print(difference_train)\n",
    "difference_test = full_test_frequencies - reduced_test_frequencies\n",
    "print(difference_test)"
   ],
   "metadata": {
    "collapsed": false
   }
  },
  {
   "cell_type": "code",
   "execution_count": 10,
   "outputs": [
    {
     "name": "stdout",
     "output_type": "stream",
     "text": [
      "Name :  C:\\Users\\Adriano\\Desktop\\MCD\\FAA\\Project1\\ImageClassification/Fruit-Images-Dataset/Training/Cherry 2\\r_263_100.jpg\n",
      "Intclass :  27\n",
      "Name :  C:\\Users\\Adriano\\Desktop\\MCD\\FAA\\Project1\\ImageClassification/Fruit-Images-Dataset/Training/Nut Pecan\\73_100.jpg\n",
      "Intclass :  73\n",
      "Name :  C:\\Users\\Adriano\\Desktop\\MCD\\FAA\\Project1\\ImageClassification/Fruit-Images-Dataset/Training/Melon Piel de Sapo\\r_45_100.jpg\n",
      "Intclass :  68\n",
      "Name :  C:\\Users\\Adriano\\Desktop\\MCD\\FAA\\Project1\\ImageClassification/Fruit-Images-Dataset/Training/Redcurrant\\120_100.jpg\n",
      "Intclass :  114\n",
      "Name :  C:\\Users\\Adriano\\Desktop\\MCD\\FAA\\Project1\\ImageClassification/Fruit-Images-Dataset/Training/Strawberry Wedge\\r_176_100.jpg\n",
      "Intclass :  117\n",
      "Name :  C:\\Users\\Adriano\\Desktop\\MCD\\FAA\\Project1\\ImageClassification/Fruit-Images-Dataset/Training/Peach\\206_100.jpg\n",
      "Intclass :  80\n",
      "Name :  C:\\Users\\Adriano\\Desktop\\MCD\\FAA\\Project1\\ImageClassification/Fruit-Images-Dataset/Training/Nut Forest\\87_100.jpg\n",
      "Intclass :  72\n",
      "Name :  C:\\Users\\Adriano\\Desktop\\MCD\\FAA\\Project1\\ImageClassification/Fruit-Images-Dataset/Training/Apple Golden 1\\255_100.jpg\n",
      "Intclass :  2\n",
      "Name :  C:\\Users\\Adriano\\Desktop\\MCD\\FAA\\Project1\\ImageClassification/Fruit-Images-Dataset/Training/Pear Stone\\r_279_100.jpg\n",
      "Intclass :  90\n",
      "Name :  C:\\Users\\Adriano\\Desktop\\MCD\\FAA\\Project1\\ImageClassification/Fruit-Images-Dataset/Training/Watermelon\\105_100.jpg\n",
      "Intclass :  130\n",
      "Name :  C:\\Users\\Adriano\\Desktop\\MCD\\FAA\\Project1\\ImageClassification/Fruit-Images-Dataset/Training/Lychee\\103_100.jpg\n",
      "Intclass :  62\n",
      "Name :  C:\\Users\\Adriano\\Desktop\\MCD\\FAA\\Project1\\ImageClassification/Fruit-Images-Dataset/Training/Cantaloupe 1\\r_294_100.jpg\n",
      "Intclass :  22\n",
      "Name :  C:\\Users\\Adriano\\Desktop\\MCD\\FAA\\Project1\\ImageClassification/Fruit-Images-Dataset/Training/Tomato 2\\57_100.jpg\n",
      "Intclass :  121\n",
      "Name :  C:\\Users\\Adriano\\Desktop\\MCD\\FAA\\Project1\\ImageClassification/Fruit-Images-Dataset/Training/Cherry Wax Yellow\\197_100.jpg\n",
      "Intclass :  31\n",
      "Name :  C:\\Users\\Adriano\\Desktop\\MCD\\FAA\\Project1\\ImageClassification/Fruit-Images-Dataset/Training/Tomato Yellow\\166_100.jpg\n",
      "Intclass :  127\n",
      "Name :  C:\\Users\\Adriano\\Desktop\\MCD\\FAA\\Project1\\ImageClassification/Fruit-Images-Dataset/Training/Apple Granny Smith\\300_100.jpg\n",
      "Intclass :  5\n",
      "Name :  C:\\Users\\Adriano\\Desktop\\MCD\\FAA\\Project1\\ImageClassification/Fruit-Images-Dataset/Training/Cherry Rainier\\r_84_100.jpg\n",
      "Intclass :  28\n",
      "Name :  C:\\Users\\Adriano\\Desktop\\MCD\\FAA\\Project1\\ImageClassification/Fruit-Images-Dataset/Training/Grape White\\r_121_100.jpg\n",
      "Intclass :  46\n",
      "Name :  C:\\Users\\Adriano\\Desktop\\MCD\\FAA\\Project1\\ImageClassification/Fruit-Images-Dataset/Training/Limes\\r_157_100.jpg\n",
      "Intclass :  61\n",
      "Name :  C:\\Users\\Adriano\\Desktop\\MCD\\FAA\\Project1\\ImageClassification/Fruit-Images-Dataset/Training/Tomato Cherry Red\\126_100.jpg\n",
      "Intclass :  124\n"
     ]
    }
   ],
   "source": [
    "i = 0\n",
    "while i < 20:\n",
    "  print('Name : ', names_train[i])\n",
    "  print('Intclass : ', intclass_train[i])\n",
    "  i+=1\n"
   ],
   "metadata": {
    "collapsed": false
   }
  },
  {
   "cell_type": "code",
   "execution_count": 11,
   "outputs": [
    {
     "name": "stdout",
     "output_type": "stream",
     "text": [
      "Training set size :  67692\n",
      "Testing set size :  22688\n"
     ]
    }
   ],
   "source": [
    "print('Training set size : ',  names_train.shape[0])\n",
    "print('Testing set size : ', names_test.shape[0])"
   ],
   "metadata": {
    "collapsed": false
   }
  },
  {
   "cell_type": "markdown",
   "source": [
    "Amount of different classes in the test set."
   ],
   "metadata": {
    "collapsed": false
   }
  },
  {
   "cell_type": "code",
   "execution_count": 12,
   "outputs": [
    {
     "data": {
      "text/plain": "131"
     },
     "execution_count": 12,
     "metadata": {},
     "output_type": "execute_result"
    }
   ],
   "source": [
    "n_classes = len(np.unique(intclass_test))\n",
    "n_classes\n"
   ],
   "metadata": {
    "collapsed": false
   }
  },
  {
   "cell_type": "markdown",
   "source": [
    "Change name of image to actual pixel array.\n",
    "The _images_array are the inputs (100x100 pixels with 3 color channels).\n"
   ],
   "metadata": {
    "collapsed": false
   }
  },
  {
   "cell_type": "code",
   "execution_count": 15,
   "outputs": [
    {
     "ename": "ModuleNotFoundError",
     "evalue": "No module named 'keras'",
     "output_type": "error",
     "traceback": [
      "\u001B[1;31m---------------------------------------------------------------------------\u001B[0m",
      "\u001B[1;31mModuleNotFoundError\u001B[0m                       Traceback (most recent call last)",
      "\u001B[1;32m<ipython-input-15-7bcc458ae6a3>\u001B[0m in \u001B[0;36m<module>\u001B[1;34m\u001B[0m\n\u001B[0;32m      1\u001B[0m \u001B[1;31m#from keras.preprocessing.image import array_to_img, img_to_array, load_img\u001B[0m\u001B[1;33m\u001B[0m\u001B[1;33m\u001B[0m\u001B[1;33m\u001B[0m\u001B[0m\n\u001B[1;32m----> 2\u001B[1;33m \u001B[1;32mfrom\u001B[0m \u001B[0mkeras\u001B[0m\u001B[1;33m.\u001B[0m\u001B[0mutils\u001B[0m \u001B[1;32mimport\u001B[0m \u001B[0marray_to_img\u001B[0m\u001B[1;33m,\u001B[0m \u001B[0mimg_to_array\u001B[0m\u001B[1;33m,\u001B[0m \u001B[0mload_img\u001B[0m\u001B[1;33m\u001B[0m\u001B[1;33m\u001B[0m\u001B[0m\n\u001B[0m\u001B[0;32m      3\u001B[0m \u001B[1;33m\u001B[0m\u001B[0m\n\u001B[0;32m      4\u001B[0m \u001B[1;32mdef\u001B[0m \u001B[0mconvert_image_to_array\u001B[0m\u001B[1;33m(\u001B[0m\u001B[0mfiles\u001B[0m\u001B[1;33m)\u001B[0m\u001B[1;33m:\u001B[0m\u001B[1;33m\u001B[0m\u001B[1;33m\u001B[0m\u001B[0m\n\u001B[0;32m      5\u001B[0m     \u001B[0mimages_as_array\u001B[0m\u001B[1;33m=\u001B[0m\u001B[1;33m[\u001B[0m\u001B[1;33m]\u001B[0m\u001B[1;33m\u001B[0m\u001B[1;33m\u001B[0m\u001B[0m\n",
      "\u001B[1;31mModuleNotFoundError\u001B[0m: No module named 'keras'"
     ]
    }
   ],
   "source": [
    "#from keras.preprocessing.image import array_to_img, img_to_array, load_img\n",
    "from keras.utils import array_to_img, img_to_array, load_img\n",
    "\n",
    "def convert_image_to_array(files):\n",
    "    images_as_array=[]\n",
    "    for file in files:\n",
    "        # Convert to Numpy Array\n",
    "        images_as_array.append(img_to_array(load_img(file)))\n",
    "    return images_as_array\n",
    "\n",
    "train_images_array = np.array(convert_image_to_array(names_train))\n",
    "print('Training set shape : ', train_images_array.shape)\n",
    "\n",
    "test_images_array = np.array(convert_image_to_array(names_test))\n",
    "print('Test set shape : ', test_images_array.shape)\n",
    "\n",
    "print('1st training image shape ',train_images_array[0].shape)"
   ],
   "metadata": {
    "collapsed": false
   }
  },
  {
   "cell_type": "markdown",
   "source": [
    "Pixel arrays of one image (100x100 pixels, 3 color channels)."
   ],
   "metadata": {
    "collapsed": false
   }
  },
  {
   "cell_type": "code",
   "execution_count": null,
   "outputs": [],
   "source": [
    "print('1st training image as array',train_images_array[0])"
   ],
   "metadata": {
    "collapsed": false
   }
  },
  {
   "cell_type": "markdown",
   "source": [
    "Rescale pixel values from 0-255 range to 0-1.\n",
    "\n",
    "\n",
    "1.   train_images_array is an array containing the normalized pixel values of the train images.\n",
    "2.   test_images_array is an array containing the normalized pixel values of the test images.\n",
    "3.   valid_images_array is an array containing the normalized pixel values of the validation images.\n",
    "\n"
   ],
   "metadata": {
    "collapsed": false
   }
  },
  {
   "cell_type": "code",
   "execution_count": null,
   "outputs": [],
   "source": [
    "train_images_array = train_images_array.astype('float32')/255\n",
    "test_images_array = test_images_array.astype('float32')/255"
   ],
   "metadata": {
    "collapsed": false
   }
  },
  {
   "cell_type": "markdown",
   "source": [
    "Following the code in the link below\n",
    "\n",
    "https://www.analyticsvidhya.com/blog/2022/01/image-classification-using-machine-learning/\n"
   ],
   "metadata": {
    "collapsed": false
   }
  },
  {
   "cell_type": "code",
   "execution_count": null,
   "outputs": [],
   "source": [
    "train_images_array.shape"
   ],
   "metadata": {
    "collapsed": false
   }
  },
  {
   "cell_type": "code",
   "execution_count": null,
   "outputs": [],
   "source": [
    "#sklearn expects i/p to be 2d array-model.fit(x_train,y_train)=>reshape to 2d array\n",
    "nsamples, nx, ny, nrgb = train_images_array.shape\n",
    "train_flat_images_array = train_images_array.reshape((nsamples,nx*ny*nrgb))"
   ],
   "metadata": {
    "collapsed": false
   }
  },
  {
   "cell_type": "code",
   "execution_count": null,
   "outputs": [],
   "source": [
    "test_images_array.shape"
   ],
   "metadata": {
    "collapsed": false
   }
  },
  {
   "cell_type": "code",
   "execution_count": null,
   "outputs": [],
   "source": [
    "#so,eventually,model.predict() should also be a 2d input\n",
    "nsamples, nx, ny, nrgb = test_images_array.shape\n",
    "test_flat_images_array = test_images_array.reshape((nsamples,nx*ny*nrgb))"
   ],
   "metadata": {
    "collapsed": false
   }
  },
  {
   "cell_type": "code",
   "execution_count": null,
   "outputs": [],
   "source": [
    "stringclass_train.shape"
   ],
   "metadata": {
    "collapsed": false
   }
  },
  {
   "cell_type": "code",
   "execution_count": null,
   "outputs": [],
   "source": [
    "intclass_train.shape"
   ],
   "metadata": {
    "collapsed": false
   }
  },
  {
   "cell_type": "code",
   "execution_count": 55,
   "outputs": [],
   "source": [
    "from sklearn.ensemble import RandomForestClassifier\n",
    "rf=RandomForestClassifier()\n",
    "\n",
    "from sklearn.model_selection import GridSearchCV\n",
    "\n",
    "param_grid={\n",
    "    'n_estimators':[1,5,10,50,100,500],\n",
    "    'criterion': ['gini', 'entropy', 'log_loss'],\n",
    "    'max_depth':[None, 5,10,50,100,500],\n",
    "    'min_samples_split':[5,10,50,100,500, 0.1,0.2],\n",
    "   # 'min_samples_leaf':[1,5,10,50,100,500, 0.1,0.2],\n",
    "   # 'min_weight_fraction_leaff':[0.0,0.1,0.2],\n",
    "   # 'max_features':['sqrt', 'log2', None],\n",
    "   # 'max_leaf_nodes':[None, 5,10,50,100,500],\n",
    "   # 'min_imp5urity_decrease':[0.0,0.1,0.2,0.5,0.9],\n",
    "   # 'bootstrap':[True, False],\n",
    "   # 'oob_score':[True, False],\n",
    "   # 'n_jobs':[None, 1, -1],\n",
    "    #'random_state':[None, 666],\n",
    "    #'verbose':[0,1,2],\n",
    "    #'warm_start':[True, False],\n",
    "    #'class_weight':['balanced' 'balanced_subsample'}\n",
    "   # 'ccp_alpha':[0.0,0.1,0.2,0.5, 1.0,1.5, 10.0],\n",
    "   # 'max_samples':[None, 1,5,10,50,100,500, 0.1,0.2,0.5]\n",
    "}\n",
    "#applying 10-fold cross validation to choose hyperparameter\n",
    "rf_gs=GridSearchCV(estimator=rf, param_grid=param_grid, scoring='accuracy', cv=10)"
   ],
   "metadata": {
    "collapsed": false
   }
  },
  {
   "cell_type": "code",
   "execution_count": 30,
   "outputs": [
    {
     "data": {
      "text/plain": "array(['107', '64', '88', ..., '58', '64', '16'], dtype='<U3')"
     },
     "execution_count": 30,
     "metadata": {},
     "output_type": "execute_result"
    }
   ],
   "source": [
    "rf_gs.fit(train_flat_images_array,intclass_train)"
   ],
   "metadata": {
    "collapsed": false
   }
  },
  {
   "cell_type": "code",
   "execution_count": null,
   "outputs": [],
   "source": [
    "best_params = rf_gs.best_estimator_.get_params()\n",
    "best_params"
   ],
   "metadata": {
    "collapsed": false
   }
  },
  {
   "cell_type": "code",
   "execution_count": null,
   "outputs": [],
   "source": [
    "intclass_test_pred=rf_gs.best_estimator_.predict(test_flat_images_array)\n",
    "intclass_test_pred"
   ],
   "metadata": {
    "collapsed": false
   }
  },
  {
   "cell_type": "code",
   "execution_count": null,
   "outputs": [],
   "source": [
    "train_score = score(train_flat_images_array,intclass_train)\n",
    "test_score = score(test_flat_images_array,intclass_test)\n",
    "print(f'The model has {train_score*100}% accuracy in the train set')\n",
    "print(f'The model has {test_score*100}% accuracy in the test set')\n"
   ],
   "metadata": {
    "collapsed": false
   }
  },
  {
   "cell_type": "code",
   "execution_count": 31,
   "outputs": [],
   "source": [
    "from sklearn.metrics import accuracy_score,confusion_matrix,classification_report"
   ],
   "metadata": {
    "collapsed": false
   }
  },
  {
   "cell_type": "code",
   "execution_count": null,
   "outputs": [],
   "source": [
    "acc = accuracy_score(intclass_test_pred,intclass_test)\n",
    "acc"
   ],
   "metadata": {
    "collapsed": false
   }
  },
  {
   "cell_type": "code",
   "execution_count": null,
   "outputs": [],
   "source": [
    "print(\"The predicted Data is :\")\n",
    "print(np.array(intclass_test_pred))\n",
    "print(\"The actual data is:\")\n",
    "print(np.array(intclass_test))\n",
    "print(f\"The model is {acc*100}% accurate (in the test set)\")"
   ],
   "metadata": {
    "collapsed": false
   }
  },
  {
   "cell_type": "code",
   "execution_count": 32,
   "outputs": [
    {
     "name": "stdout",
     "output_type": "stream",
     "text": [
      "              precision    recall  f1-score   support\n",
      "\n",
      "           0       0.76      0.84      0.80       148\n",
      "           1       0.84      0.98      0.91       128\n",
      "          10       1.00      1.00      1.00       166\n",
      "         100       1.00      0.91      0.95       180\n",
      "         101       0.96      0.92      0.94       172\n",
      "         102       1.00      0.90      0.95       168\n",
      "         103       1.00      1.00      1.00       142\n",
      "         104       1.00      0.92      0.96       330\n",
      "         105       0.77      0.99      0.87       127\n",
      "         106       1.00      1.00      1.00       153\n",
      "         107       0.91      0.81      0.86       168\n",
      "         108       0.89      0.99      0.94       136\n",
      "         109       0.60      0.88      0.71       102\n",
      "          11       0.71      1.00      0.83       117\n",
      "         110       0.99      0.72      0.84       206\n",
      "         111       1.00      1.00      1.00       166\n",
      "         112       1.00      0.78      0.88       210\n",
      "         113       1.00      0.99      0.99       168\n",
      "         114       1.00      1.00      1.00       164\n",
      "         115       1.00      0.98      0.99       166\n",
      "         116       0.84      1.00      0.91       138\n",
      "         117       0.99      0.85      0.91       287\n",
      "         118       1.00      1.00      1.00       166\n",
      "         119       1.00      1.00      1.00       166\n",
      "          12       1.00      1.00      1.00       219\n",
      "         120       1.00      1.00      1.00       246\n",
      "         121       1.00      1.00      1.00       225\n",
      "         122       1.00      1.00      1.00       246\n",
      "         123       1.00      1.00      1.00       160\n",
      "         124       1.00      1.00      1.00       164\n",
      "         125       1.00      1.00      1.00       228\n",
      "         126       1.00      0.99      1.00       128\n",
      "         127       1.00      1.00      1.00       153\n",
      "         128       0.76      0.96      0.85       125\n",
      "         129       1.00      0.91      0.95       274\n",
      "          13       1.00      0.90      0.95       182\n",
      "         130       1.00      0.94      0.97       167\n",
      "          14       0.88      1.00      0.94       126\n",
      "          15       1.00      1.00      1.00       166\n",
      "          16       0.77      0.96      0.85       132\n",
      "          17       0.86      0.98      0.92       133\n",
      "          18       0.71      0.98      0.83       120\n",
      "          19       0.70      0.74      0.72       141\n",
      "           2       0.98      0.78      0.87       201\n",
      "          20       0.86      1.00      0.92       132\n",
      "          21       0.96      0.98      0.97       163\n",
      "          22       1.00      1.00      1.00       164\n",
      "          23       0.99      0.81      0.89       201\n",
      "          24       0.99      1.00      1.00       165\n",
      "          25       1.00      0.85      0.92       275\n",
      "          26       1.00      1.00      1.00       164\n",
      "          27       1.00      1.00      1.00       246\n",
      "          28       1.00      1.00      1.00       246\n",
      "          29       1.00      1.00      1.00       164\n",
      "           3       1.00      0.93      0.96       176\n",
      "          30       1.00      1.00      1.00       164\n",
      "          31       1.00      1.00      1.00       164\n",
      "          32       0.99      0.93      0.96       163\n",
      "          33       1.00      1.00      1.00       166\n",
      "          34       0.95      0.94      0.95       168\n",
      "          35       0.49      0.95      0.64        77\n",
      "          36       0.64      0.69      0.67       143\n",
      "          37       0.95      0.84      0.90       147\n",
      "          38       1.00      1.00      1.00       156\n",
      "          39       1.00      0.95      0.97       175\n",
      "           4       0.99      0.95      0.97       167\n",
      "          40       0.67      1.00      0.80       105\n",
      "          41       1.00      0.97      0.99       240\n",
      "          42       0.73      0.90      0.80        80\n",
      "          43       1.00      1.00      1.00       166\n",
      "          44       1.00      0.94      0.97       350\n",
      "          45       1.00      0.81      0.90       202\n",
      "          46       1.00      0.91      0.95       182\n",
      "          47       1.00      1.00      1.00       166\n",
      "          48       1.00      1.00      1.00       164\n",
      "          49       1.00      0.99      1.00       159\n",
      "           5       0.95      0.99      0.97       158\n",
      "          50       1.00      1.00      1.00       166\n",
      "          51       1.00      1.00      1.00       164\n",
      "          52       1.00      0.97      0.98       172\n",
      "          53       1.00      1.00      1.00       157\n",
      "          54       1.00      1.00      1.00       166\n",
      "          55       1.00      1.00      1.00       166\n",
      "          56       1.00      0.99      0.99       158\n",
      "          57       1.00      0.99      1.00       158\n",
      "          58       1.00      1.00      1.00       166\n",
      "          59       1.00      1.00      1.00       164\n",
      "           6       1.00      0.83      0.91       183\n",
      "          60       1.00      1.00      1.00       166\n",
      "          61       1.00      1.00      1.00       166\n",
      "          62       1.00      1.00      1.00       166\n",
      "          63       1.00      0.99      1.00       167\n",
      "          64       1.00      1.00      1.00       166\n",
      "          65       0.98      1.00      0.99       139\n",
      "          66       0.91      1.00      0.95        93\n",
      "          67       0.84      0.99      0.91       140\n",
      "          68       1.00      0.99      1.00       248\n",
      "          69       1.00      0.98      0.99       167\n",
      "           7       1.00      1.00      1.00       164\n",
      "          70       0.79      0.77      0.78       167\n",
      "          71       1.00      0.98      0.99       163\n",
      "          72       1.00      1.00      1.00       218\n",
      "          73       0.84      0.94      0.89       160\n",
      "          74       0.99      0.90      0.95       165\n",
      "          75       0.83      1.00      0.91       129\n",
      "          76       1.00      0.51      0.67       287\n",
      "          77       1.00      1.00      1.00       160\n",
      "          78       1.00      0.98      0.99       167\n",
      "          79       1.00      1.00      1.00       166\n",
      "           8       1.00      0.93      0.96       177\n",
      "          80       0.77      0.98      0.86       129\n",
      "          81       1.00      0.98      0.99       251\n",
      "          82       0.70      0.98      0.82       117\n",
      "          83       1.00      0.91      0.95       180\n",
      "          84       0.48      0.96      0.64       117\n",
      "          85       0.92      0.80      0.85       191\n",
      "          86       1.00      0.98      0.99       238\n",
      "          87       1.00      1.00      1.00       102\n",
      "          88       0.96      1.00      0.98       160\n",
      "          89       0.99      0.91      0.95       240\n",
      "           9       0.97      1.00      0.99       140\n",
      "          90       0.94      0.95      0.94       235\n",
      "          91       1.00      0.99      1.00       167\n",
      "          92       0.77      1.00      0.87       128\n",
      "          93       0.99      0.79      0.88       186\n",
      "          94       0.92      1.00      0.96       216\n",
      "          95       1.00      0.99      1.00       224\n",
      "          96       1.00      1.00      1.00       222\n",
      "          97       1.00      1.00      1.00       164\n",
      "          98       1.00      0.95      0.98       172\n",
      "          99       0.97      0.89      0.93       180\n",
      "\n",
      "    accuracy                           0.95     22688\n",
      "   macro avg       0.94      0.95      0.94     22688\n",
      "weighted avg       0.96      0.95      0.95     22688\n",
      "\n"
     ]
    }
   ],
   "source": [
    "print(classification_report(intclass_test_pred,intclass_test))"
   ],
   "metadata": {
    "collapsed": false
   }
  },
  {
   "cell_type": "markdown",
   "source": [
    "# Ploting the scores of gridsearcchcv\n",
    "https://stackoverflow.com/questions/37161563/how-to-graph-grid-scores-from-gridsearchcv"
   ],
   "metadata": {
    "collapsed": false
   }
  },
  {
   "cell_type": "code",
   "execution_count": null,
   "outputs": [],
   "source": [],
   "metadata": {
    "collapsed": false
   }
  },
  {
   "cell_type": "code",
   "execution_count": null,
   "outputs": [],
   "source": [],
   "metadata": {
    "collapsed": false
   }
  },
  {
   "cell_type": "code",
   "execution_count": null,
   "outputs": [],
   "source": [],
   "metadata": {
    "collapsed": false
   }
  },
  {
   "cell_type": "markdown",
   "source": [
    "# Ploting the Consusion Matrix"
   ],
   "metadata": {
    "collapsed": false
   }
  },
  {
   "cell_type": "code",
   "execution_count": 34,
   "outputs": [
    {
     "data": {
      "text/plain": "array([[125,   0,   0, ...,   0,   0,   0],\n       [  0, 125,   0, ...,   0,   0,   0],\n       [  0,   0, 166, ...,   0,   0,   0],\n       ...,\n       [  0,   0,   0, ..., 164,   0,   0],\n       [  0,   0,   0, ...,   0, 164,   0],\n       [  0,   0,   0, ...,   0,   0, 161]], dtype=int64)"
     },
     "execution_count": 34,
     "metadata": {},
     "output_type": "execute_result"
    }
   ],
   "source": [
    "cm = confusion_matrix(y_pred,intclass_test)\n",
    "cm"
   ],
   "metadata": {
    "collapsed": false
   }
  },
  {
   "cell_type": "markdown",
   "source": [],
   "metadata": {
    "collapsed": false
   }
  },
  {
   "cell_type": "code",
   "execution_count": 46,
   "outputs": [],
   "source": [
    "df = pd.DataFrame(cm).replace(0, np.nan)"
   ],
   "metadata": {
    "collapsed": false
   }
  },
  {
   "cell_type": "code",
   "execution_count": 52,
   "outputs": [],
   "source": [
    "import seaborn as sns"
   ],
   "metadata": {
    "collapsed": false
   }
  },
  {
   "cell_type": "code",
   "execution_count": 51,
   "outputs": [
    {
     "data": {
      "text/plain": "<Figure size 2000x2000 with 2 Axes>",
      "image/png": "[encoded data removed]"
     },
     "metadata": {},
     "output_type": "display_data"
    }
   ],
   "source": [
    "plt.figure(figsize=[20,20])\n",
    "sns.heatmap(df, annot=True, fmt='g', cmap=\"Blues\")\n",
    "plt.show()"
   ],
   "metadata": {
    "collapsed": false
   }
  },
  {
   "cell_type": "markdown",
   "source": [],
   "metadata": {
    "collapsed": false
   }
  },
  {
   "cell_type": "code",
   "execution_count": 38,
   "outputs": [],
   "source": [
    "#selecting the higher values outside of the diagonal (biggest confusion between classing)\n",
    "#and associating it with the original class and the predicted class\n",
    "\n",
    "#for example if green apples and red apples have some confusion it is not as much a problem as bananas and red apples"
   ],
   "metadata": {
    "collapsed": false
   }
  },
  {
   "cell_type": "code",
   "execution_count": null,
   "outputs": [],
   "source": [],
   "metadata": {
    "collapsed": false
   }
  },
  {
   "cell_type": "code",
   "execution_count": null,
   "outputs": [],
   "source": [],
   "metadata": {
    "collapsed": false
   }
  }
 ],
 "metadata": {
  "accelerator": "GPU",
  "colab": {
   "collapsed_sections": [],
   "provenance": []
  },
  "kernelspec": {
   "display_name": "Python 3 (ipykernel)",
   "language": "python",
   "name": "python3"
  },
  "language_info": {
   "codemirror_mode": {
    "name": "ipython",
    "version": 3
   },
   "file_extension": ".py",
   "mimetype": "text/x-python",
   "name": "python",
   "nbconvert_exporter": "python",
   "pygments_lexer": "ipython3",
   "version": "3.8.13"
  }
 },
 "nbformat": 4,
 "nbformat_minor": 4
}
