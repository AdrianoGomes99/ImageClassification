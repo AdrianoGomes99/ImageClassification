{
 "cells": [
  {
   "cell_type": "markdown",
   "source": [
    "Random Forests for (Fruits and Vegetables) Image Classification"
   ],
   "metadata": {
    "collapsed": false
   }
  },
  {
   "cell_type": "markdown",
   "source": [
    "Import numpy and sklearn method."
   ],
   "metadata": {
    "collapsed": false
   }
  },
  {
   "cell_type": "code",
   "execution_count": 1,
   "outputs": [
    {
     "name": "stdout",
     "output_type": "stream",
     "text": [
      "1.20.1\n"
     ]
    }
   ],
   "source": [
    "import numpy as np\n",
    "from sklearn.datasets import load_files\n",
    "\n",
    "print(np.__version__)"
   ],
   "metadata": {
    "collapsed": false
   }
  },
  {
   "cell_type": "markdown",
   "source": [
    "Copy dataset from git repo."
   ],
   "metadata": {
    "collapsed": false
   }
  },
  {
   "cell_type": "code",
   "execution_count": 2,
   "outputs": [
    {
     "name": "stderr",
     "output_type": "stream",
     "text": [
      "fatal: destination path 'Fruit-Images-Dataset' already exists and is not an empty directory.\n"
     ]
    }
   ],
   "source": [
    "!git clone https://github.com/Horea94/Fruit-Images-Dataset"
   ],
   "metadata": {
    "collapsed": false
   }
  },
  {
   "cell_type": "markdown",
   "source": [
    "Set the path directory to the cloned test and train data.\n",
    "load_dataset() returns the filenames, integer classes and string classes that are stored in file directory.\n",
    "\n",
    "\n",
    "1.   names_train is a vector that contains the filepath of all images from the training set\n",
    "2.   names_test is a vector that contains the filepath of all images from the test set\n",
    "3.   intclass_train is a vector containing the int class values (1-131) of all images from the training set\n",
    "4.   intclass_test is a vector containing the int class values (1-131) of all images from the test set\n",
    "5.   stringclass_train is a vector containing the string label of class of all images from the training set\n",
    "6.   stringclass_test is a vector containing the string label of class of all images from the test set\n",
    "\n",
    "\n",
    "\n",
    "\n"
   ],
   "metadata": {
    "collapsed": false
   }
  },
  {
   "cell_type": "code",
   "execution_count": 3,
   "outputs": [
    {
     "data": {
      "text/plain": "'C:\\\\Users\\\\Adriano\\\\Desktop\\\\MCD\\\\FAA\\\\Project1\\\\ImageClassification'"
     },
     "execution_count": 3,
     "metadata": {},
     "output_type": "execute_result"
    }
   ],
   "source": [
    "import os\n",
    "base_dir = os.getcwd()\n",
    "base_dir"
   ],
   "metadata": {
    "collapsed": false
   }
  },
  {
   "cell_type": "code",
   "execution_count": 4,
   "outputs": [
    {
     "name": "stdout",
     "output_type": "stream",
     "text": [
      "Loading complete!\n",
      "Training set size :  67692\n",
      "Testing set size :  22688\n",
      "['Apple Braeburn' 'Apple Crimson Snow' 'Apple Golden 1' 'Apple Golden 2'\n",
      " 'Apple Golden 3' 'Apple Granny Smith' 'Apple Pink Lady' 'Apple Red 1'\n",
      " 'Apple Red 2' 'Apple Red 3' 'Apple Red Delicious' 'Apple Red Yellow 1'\n",
      " 'Apple Red Yellow 2' 'Apricot' 'Avocado' 'Avocado ripe' 'Banana'\n",
      " 'Banana Lady Finger' 'Banana Red' 'Beetroot' 'Blueberry' 'Cactus fruit'\n",
      " 'Cantaloupe 1' 'Cantaloupe 2' 'Carambula' 'Cauliflower' 'Cherry 1'\n",
      " 'Cherry 2' 'Cherry Rainier' 'Cherry Wax Black' 'Cherry Wax Red'\n",
      " 'Cherry Wax Yellow' 'Chestnut' 'Clementine' 'Cocos' 'Corn' 'Corn Husk'\n",
      " 'Cucumber Ripe' 'Cucumber Ripe 2' 'Dates' 'Eggplant' 'Fig' 'Ginger Root'\n",
      " 'Granadilla' 'Grape Blue' 'Grape Pink' 'Grape White' 'Grape White 2'\n",
      " 'Grape White 3' 'Grape White 4' 'Grapefruit Pink' 'Grapefruit White'\n",
      " 'Guava' 'Hazelnut' 'Huckleberry' 'Kaki' 'Kiwi' 'Kohlrabi' 'Kumquats'\n",
      " 'Lemon' 'Lemon Meyer' 'Limes' 'Lychee' 'Mandarine' 'Mango' 'Mango Red'\n",
      " 'Mangostan' 'Maracuja' 'Melon Piel de Sapo' 'Mulberry' 'Nectarine'\n",
      " 'Nectarine Flat' 'Nut Forest' 'Nut Pecan' 'Onion Red' 'Onion Red Peeled'\n",
      " 'Onion White' 'Orange' 'Papaya' 'Passion Fruit' 'Peach' 'Peach 2'\n",
      " 'Peach Flat' 'Pear' 'Pear 2' 'Pear Abate' 'Pear Forelle' 'Pear Kaiser'\n",
      " 'Pear Monster' 'Pear Red' 'Pear Stone' 'Pear Williams' 'Pepino'\n",
      " 'Pepper Green' 'Pepper Orange' 'Pepper Red' 'Pepper Yellow' 'Physalis'\n",
      " 'Physalis with Husk' 'Pineapple' 'Pineapple Mini' 'Pitahaya Red' 'Plum'\n",
      " 'Plum 2' 'Plum 3' 'Pomegranate' 'Pomelo Sweetie' 'Potato Red'\n",
      " 'Potato Red Washed' 'Potato Sweet' 'Potato White' 'Quince' 'Rambutan'\n",
      " 'Raspberry' 'Redcurrant' 'Salak' 'Strawberry' 'Strawberry Wedge'\n",
      " 'Tamarillo' 'Tangelo' 'Tomato 1' 'Tomato 2' 'Tomato 3' 'Tomato 4'\n",
      " 'Tomato Cherry Red' 'Tomato Heart' 'Tomato Maroon' 'Tomato Yellow'\n",
      " 'Tomato not Ripened' 'Walnut' 'Watermelon']\n",
      "(67692,)\n",
      "(131,)\n"
     ]
    }
   ],
   "source": [
    "train_dir = base_dir+'/Fruit-Images-Dataset/Training/'\n",
    "test_dir = base_dir+'/Fruit-Images-Dataset/Test/'\n",
    "\n",
    "def load_dataset(path):\n",
    "    data = load_files(path)\n",
    "    files = np.array(data['filenames'])\n",
    "    targets = np.array(data['target'])\n",
    "    target_labels = np.array(data['target_names'])\n",
    "    return files, targets, target_labels\n",
    "\n",
    "names_train, intclass_train, stringclass_train = load_dataset(train_dir)\n",
    "names_test, intclass_test, stringclass_test = load_dataset(test_dir)\n",
    "\n",
    "print('Loading complete!')\n",
    "print('Training set size : ',  names_train.shape[0])\n",
    "print('Testing set size : ', names_test.shape[0])\n",
    "print(stringclass_train)\n",
    "print(intclass_train.shape)\n",
    "print(stringclass_train.shape)"
   ],
   "metadata": {
    "collapsed": false
   }
  },
  {
   "cell_type": "code",
   "execution_count": 5,
   "outputs": [
    {
     "name": "stdout",
     "output_type": "stream",
     "text": [
      "(131,)\n",
      "(131,)\n"
     ]
    }
   ],
   "source": [
    "print(stringclass_train.shape)\n",
    "print(stringclass_test.shape)\n"
   ],
   "metadata": {
    "collapsed": false
   }
  },
  {
   "cell_type": "markdown",
   "source": [
    "Show distribution of images to the different classes."
   ],
   "metadata": {
    "collapsed": false
   }
  },
  {
   "cell_type": "code",
   "execution_count": 6,
   "outputs": [
    {
     "data": {
      "text/plain": "<Figure size 432x288 with 1 Axes>",
      "image/png": "[encoded data removed]"
     },
     "metadata": {},
     "output_type": "display_data"
    }
   ],
   "source": [
    "import matplotlib.pyplot as plt\n",
    "\n",
    "(intclass, counts) = np.unique(intclass_train, return_counts=True)\n",
    "plt.bar(intclass, counts)\n",
    "plt.title('distribution of full training and test data')\n",
    "full_train_frequencies = np.asarray((intclass, counts)).T\n",
    "\n",
    "(intclass, counts) = np.unique(intclass_test, return_counts=True)\n",
    "plt.bar(intclass, counts)\n",
    "full_test_frequencies = np.asarray((intclass, counts)).T"
   ],
   "metadata": {
    "collapsed": false
   }
  },
  {
   "cell_type": "markdown",
   "source": [
    "Datasets can be reduced for compiling: original size of the training dataset is 67692 images; original size of the test dataset is 22688 images."
   ],
   "metadata": {
    "collapsed": false
   }
  },
  {
   "cell_type": "code",
   "execution_count": 6,
   "outputs": [],
   "source": [],
   "metadata": {
    "collapsed": false
   }
  },
  {
   "cell_type": "code",
   "execution_count": 6,
   "outputs": [],
   "source": [],
   "metadata": {
    "collapsed": false
   }
  },
  {
   "cell_type": "code",
   "execution_count": 7,
   "outputs": [
    {
     "name": "stdout",
     "output_type": "stream",
     "text": [
      "Name :  C:\\Users\\Adriano\\Desktop\\MCD\\FAA\\Project1\\ImageClassification/Fruit-Images-Dataset/Training/Cherry 2\\r_263_100.jpg\n",
      "Intclass :  27\n",
      "Name :  C:\\Users\\Adriano\\Desktop\\MCD\\FAA\\Project1\\ImageClassification/Fruit-Images-Dataset/Training/Nut Pecan\\73_100.jpg\n",
      "Intclass :  73\n",
      "Name :  C:\\Users\\Adriano\\Desktop\\MCD\\FAA\\Project1\\ImageClassification/Fruit-Images-Dataset/Training/Melon Piel de Sapo\\r_45_100.jpg\n",
      "Intclass :  68\n",
      "Name :  C:\\Users\\Adriano\\Desktop\\MCD\\FAA\\Project1\\ImageClassification/Fruit-Images-Dataset/Training/Redcurrant\\120_100.jpg\n",
      "Intclass :  114\n",
      "Name :  C:\\Users\\Adriano\\Desktop\\MCD\\FAA\\Project1\\ImageClassification/Fruit-Images-Dataset/Training/Strawberry Wedge\\r_176_100.jpg\n",
      "Intclass :  117\n",
      "Name :  C:\\Users\\Adriano\\Desktop\\MCD\\FAA\\Project1\\ImageClassification/Fruit-Images-Dataset/Training/Peach\\206_100.jpg\n",
      "Intclass :  80\n",
      "Name :  C:\\Users\\Adriano\\Desktop\\MCD\\FAA\\Project1\\ImageClassification/Fruit-Images-Dataset/Training/Nut Forest\\87_100.jpg\n",
      "Intclass :  72\n",
      "Name :  C:\\Users\\Adriano\\Desktop\\MCD\\FAA\\Project1\\ImageClassification/Fruit-Images-Dataset/Training/Apple Golden 1\\255_100.jpg\n",
      "Intclass :  2\n",
      "Name :  C:\\Users\\Adriano\\Desktop\\MCD\\FAA\\Project1\\ImageClassification/Fruit-Images-Dataset/Training/Pear Stone\\r_279_100.jpg\n",
      "Intclass :  90\n",
      "Name :  C:\\Users\\Adriano\\Desktop\\MCD\\FAA\\Project1\\ImageClassification/Fruit-Images-Dataset/Training/Watermelon\\105_100.jpg\n",
      "Intclass :  130\n",
      "Name :  C:\\Users\\Adriano\\Desktop\\MCD\\FAA\\Project1\\ImageClassification/Fruit-Images-Dataset/Training/Lychee\\103_100.jpg\n",
      "Intclass :  62\n",
      "Name :  C:\\Users\\Adriano\\Desktop\\MCD\\FAA\\Project1\\ImageClassification/Fruit-Images-Dataset/Training/Cantaloupe 1\\r_294_100.jpg\n",
      "Intclass :  22\n",
      "Name :  C:\\Users\\Adriano\\Desktop\\MCD\\FAA\\Project1\\ImageClassification/Fruit-Images-Dataset/Training/Tomato 2\\57_100.jpg\n",
      "Intclass :  121\n",
      "Name :  C:\\Users\\Adriano\\Desktop\\MCD\\FAA\\Project1\\ImageClassification/Fruit-Images-Dataset/Training/Cherry Wax Yellow\\197_100.jpg\n",
      "Intclass :  31\n",
      "Name :  C:\\Users\\Adriano\\Desktop\\MCD\\FAA\\Project1\\ImageClassification/Fruit-Images-Dataset/Training/Tomato Yellow\\166_100.jpg\n",
      "Intclass :  127\n",
      "Name :  C:\\Users\\Adriano\\Desktop\\MCD\\FAA\\Project1\\ImageClassification/Fruit-Images-Dataset/Training/Apple Granny Smith\\300_100.jpg\n",
      "Intclass :  5\n",
      "Name :  C:\\Users\\Adriano\\Desktop\\MCD\\FAA\\Project1\\ImageClassification/Fruit-Images-Dataset/Training/Cherry Rainier\\r_84_100.jpg\n",
      "Intclass :  28\n",
      "Name :  C:\\Users\\Adriano\\Desktop\\MCD\\FAA\\Project1\\ImageClassification/Fruit-Images-Dataset/Training/Grape White\\r_121_100.jpg\n",
      "Intclass :  46\n",
      "Name :  C:\\Users\\Adriano\\Desktop\\MCD\\FAA\\Project1\\ImageClassification/Fruit-Images-Dataset/Training/Limes\\r_157_100.jpg\n",
      "Intclass :  61\n",
      "Name :  C:\\Users\\Adriano\\Desktop\\MCD\\FAA\\Project1\\ImageClassification/Fruit-Images-Dataset/Training/Tomato Cherry Red\\126_100.jpg\n",
      "Intclass :  124\n"
     ]
    }
   ],
   "source": [
    "i = 0\n",
    "while i < 20:\n",
    "  print('Name : ', names_train[i])\n",
    "  print('Intclass : ', intclass_train[i])\n",
    "  i+=1\n"
   ],
   "metadata": {
    "collapsed": false
   }
  },
  {
   "cell_type": "code",
   "execution_count": 8,
   "outputs": [
    {
     "name": "stdout",
     "output_type": "stream",
     "text": [
      "Training set size :  67692\n",
      "Testing set size :  22688\n"
     ]
    }
   ],
   "source": [
    "print('Training set size : ',  names_train.shape[0])\n",
    "print('Testing set size : ', names_test.shape[0])"
   ],
   "metadata": {
    "collapsed": false
   }
  },
  {
   "cell_type": "markdown",
   "source": [
    "Amount of different classes in the test set."
   ],
   "metadata": {
    "collapsed": false
   }
  },
  {
   "cell_type": "code",
   "execution_count": 9,
   "outputs": [
    {
     "data": {
      "text/plain": "131"
     },
     "execution_count": 9,
     "metadata": {},
     "output_type": "execute_result"
    }
   ],
   "source": [
    "n_classes = len(np.unique(intclass_test))\n",
    "n_classes\n"
   ],
   "metadata": {
    "collapsed": false
   }
  },
  {
   "cell_type": "markdown",
   "source": [
    "Change name of image to actual pixel array.\n",
    "The _images_array are the inputs (100x100 pixels with 3 color channels).\n"
   ],
   "metadata": {
    "collapsed": false
   }
  },
  {
   "cell_type": "code",
   "execution_count": 10,
   "outputs": [
    {
     "name": "stdout",
     "output_type": "stream",
     "text": [
      "Requirement already satisfied: tensorflow in c:\\users\\adriano\\appdata\\roaming\\python\\python38\\site-packages (2.10.0)\n",
      "Requirement already satisfied: libclang>=13.0.0 in c:\\users\\adriano\\appdata\\roaming\\python\\python38\\site-packages (from tensorflow) (14.0.6)\n",
      "Requirement already satisfied: tensorboard<2.11,>=2.10 in c:\\users\\adriano\\appdata\\roaming\\python\\python38\\site-packages (from tensorflow) (2.10.1)\n",
      "Requirement already satisfied: wrapt>=1.11.0 in c:\\programdata\\anaconda3\\lib\\site-packages (from tensorflow) (1.12.1)\n",
      "Requirement already satisfied: termcolor>=1.1.0 in c:\\users\\adriano\\appdata\\roaming\\python\\python38\\site-packages (from tensorflow) (2.1.0)\n",
      "Requirement already satisfied: protobuf<3.20,>=3.9.2 in c:\\users\\adriano\\appdata\\roaming\\python\\python38\\site-packages (from tensorflow) (3.19.1)\n",
      "Requirement already satisfied: absl-py>=1.0.0 in c:\\users\\adriano\\appdata\\roaming\\python\\python38\\site-packages (from tensorflow) (1.3.0)\n",
      "Requirement already satisfied: grpcio<2.0,>=1.24.3 in c:\\users\\adriano\\appdata\\roaming\\python\\python38\\site-packages (from tensorflow) (1.50.0)\n",
      "Requirement already satisfied: h5py>=2.9.0 in c:\\programdata\\anaconda3\\lib\\site-packages (from tensorflow) (2.10.0)\n",
      "Requirement already satisfied: six>=1.12.0 in c:\\programdata\\anaconda3\\lib\\site-packages (from tensorflow) (1.15.0)\n",
      "Requirement already satisfied: google-pasta>=0.1.1 in c:\\users\\adriano\\appdata\\roaming\\python\\python38\\site-packages (from tensorflow) (0.2.0)\n",
      "Requirement already satisfied: packaging in c:\\programdata\\anaconda3\\lib\\site-packages (from tensorflow) (20.9)\n",
      "Requirement already satisfied: typing-extensions>=3.6.6 in c:\\programdata\\anaconda3\\lib\\site-packages (from tensorflow) (3.7.4.3)\n",
      "Requirement already satisfied: flatbuffers>=2.0 in c:\\users\\adriano\\appdata\\roaming\\python\\python38\\site-packages (from tensorflow) (22.10.26)\n",
      "Requirement already satisfied: keras-preprocessing>=1.1.1 in c:\\users\\adriano\\appdata\\roaming\\python\\python38\\site-packages (from tensorflow) (1.1.2)\n",
      "Requirement already satisfied: tensorflow-estimator<2.11,>=2.10.0 in c:\\users\\adriano\\appdata\\roaming\\python\\python38\\site-packages (from tensorflow) (2.10.0)\n",
      "Requirement already satisfied: numpy>=1.20 in c:\\programdata\\anaconda3\\lib\\site-packages (from tensorflow) (1.20.1)\n",
      "Requirement already satisfied: tensorflow-io-gcs-filesystem>=0.23.1 in c:\\users\\adriano\\appdata\\roaming\\python\\python38\\site-packages (from tensorflow) (0.27.0)\n",
      "Requirement already satisfied: keras<2.11,>=2.10.0 in c:\\users\\adriano\\appdata\\roaming\\python\\python38\\site-packages (from tensorflow) (2.10.0)\n",
      "Requirement already satisfied: gast<=0.4.0,>=0.2.1 in c:\\users\\adriano\\appdata\\roaming\\python\\python38\\site-packages (from tensorflow) (0.4.0)\n",
      "Requirement already satisfied: astunparse>=1.6.0 in c:\\users\\adriano\\appdata\\roaming\\python\\python38\\site-packages (from tensorflow) (1.6.3)\n",
      "Requirement already satisfied: opt-einsum>=2.3.2 in c:\\users\\adriano\\appdata\\roaming\\python\\python38\\site-packages (from tensorflow) (3.3.0)\n",
      "Requirement already satisfied: setuptools in c:\\programdata\\anaconda3\\lib\\site-packages (from tensorflow) (52.0.0.post20210125)\n",
      "Requirement already satisfied: wheel<1.0,>=0.23.0 in c:\\programdata\\anaconda3\\lib\\site-packages (from astunparse>=1.6.0->tensorflow) (0.36.2)\n",
      "Requirement already satisfied: tensorboard-plugin-wit>=1.6.0 in c:\\users\\adriano\\appdata\\roaming\\python\\python38\\site-packages (from tensorboard<2.11,>=2.10->tensorflow) (1.8.1)\n",
      "Requirement already satisfied: google-auth-oauthlib<0.5,>=0.4.1 in c:\\users\\adriano\\appdata\\roaming\\python\\python38\\site-packages (from tensorboard<2.11,>=2.10->tensorflow) (0.4.6)\n",
      "Requirement already satisfied: tensorboard-data-server<0.7.0,>=0.6.0 in c:\\users\\adriano\\appdata\\roaming\\python\\python38\\site-packages (from tensorboard<2.11,>=2.10->tensorflow) (0.6.1)\n",
      "Requirement already satisfied: markdown>=2.6.8 in c:\\users\\adriano\\appdata\\roaming\\python\\python38\\site-packages (from tensorboard<2.11,>=2.10->tensorflow) (3.4.1)\n",
      "Requirement already satisfied: requests<3,>=2.21.0 in c:\\programdata\\anaconda3\\lib\\site-packages (from tensorboard<2.11,>=2.10->tensorflow) (2.25.1)\n",
      "Requirement already satisfied: werkzeug>=1.0.1 in c:\\programdata\\anaconda3\\lib\\site-packages (from tensorboard<2.11,>=2.10->tensorflow) (1.0.1)\n",
      "Requirement already satisfied: google-auth<3,>=1.6.3 in c:\\users\\adriano\\appdata\\roaming\\python\\python38\\site-packages (from tensorboard<2.11,>=2.10->tensorflow) (2.14.1)\n",
      "Requirement already satisfied: cachetools<6.0,>=2.0.0 in c:\\programdata\\anaconda3\\lib\\site-packages (from google-auth<3,>=1.6.3->tensorboard<2.11,>=2.10->tensorflow) (5.2.0)\n",
      "Requirement already satisfied: rsa<5,>=3.1.4 in c:\\programdata\\anaconda3\\lib\\site-packages (from google-auth<3,>=1.6.3->tensorboard<2.11,>=2.10->tensorflow) (4.9)\n",
      "Requirement already satisfied: pyasn1-modules>=0.2.1 in c:\\programdata\\anaconda3\\lib\\site-packages (from google-auth<3,>=1.6.3->tensorboard<2.11,>=2.10->tensorflow) (0.2.8)\n",
      "Requirement already satisfied: requests-oauthlib>=0.7.0 in c:\\programdata\\anaconda3\\lib\\site-packages (from google-auth-oauthlib<0.5,>=0.4.1->tensorboard<2.11,>=2.10->tensorflow) (1.3.1)\n",
      "Requirement already satisfied: importlib-metadata>=4.4 in c:\\users\\adriano\\appdata\\roaming\\python\\python38\\site-packages (from markdown>=2.6.8->tensorboard<2.11,>=2.10->tensorflow) (5.0.0)\n",
      "Requirement already satisfied: zipp>=0.5 in c:\\programdata\\anaconda3\\lib\\site-packages (from importlib-metadata>=4.4->markdown>=2.6.8->tensorboard<2.11,>=2.10->tensorflow) (3.4.1)\n",
      "Requirement already satisfied: pyasn1<0.5.0,>=0.4.6 in c:\\programdata\\anaconda3\\lib\\site-packages (from pyasn1-modules>=0.2.1->google-auth<3,>=1.6.3->tensorboard<2.11,>=2.10->tensorflow) (0.4.8)\n",
      "Requirement already satisfied: certifi>=2017.4.17 in c:\\programdata\\anaconda3\\lib\\site-packages (from requests<3,>=2.21.0->tensorboard<2.11,>=2.10->tensorflow) (2020.12.5)\n",
      "Requirement already satisfied: chardet<5,>=3.0.2 in c:\\programdata\\anaconda3\\lib\\site-packages (from requests<3,>=2.21.0->tensorboard<2.11,>=2.10->tensorflow) (4.0.0)\n",
      "Requirement already satisfied: idna<3,>=2.5 in c:\\programdata\\anaconda3\\lib\\site-packages (from requests<3,>=2.21.0->tensorboard<2.11,>=2.10->tensorflow) (2.10)\n",
      "Requirement already satisfied: urllib3<1.27,>=1.21.1 in c:\\programdata\\anaconda3\\lib\\site-packages (from requests<3,>=2.21.0->tensorboard<2.11,>=2.10->tensorflow) (1.26.4)\n",
      "Requirement already satisfied: oauthlib>=3.0.0 in c:\\programdata\\anaconda3\\lib\\site-packages (from requests-oauthlib>=0.7.0->google-auth-oauthlib<0.5,>=0.4.1->tensorboard<2.11,>=2.10->tensorflow) (3.2.2)\n",
      "Requirement already satisfied: pyparsing>=2.0.2 in c:\\programdata\\anaconda3\\lib\\site-packages (from packaging->tensorflow) (2.4.7)\n"
     ]
    }
   ],
   "source": [
    "!pip install tensorflow --user\n",
    "import tensorflow"
   ],
   "metadata": {
    "collapsed": false
   }
  },
  {
   "cell_type": "code",
   "execution_count": 11,
   "outputs": [],
   "source": [
    "from tensorflow import keras"
   ],
   "metadata": {
    "collapsed": false
   }
  },
  {
   "cell_type": "code",
   "execution_count": 12,
   "outputs": [
    {
     "name": "stdout",
     "output_type": "stream",
     "text": [
      "Training set shape :  (67692, 100, 100, 3)\n",
      "Test set shape :  (22688, 100, 100, 3)\n",
      "1st training image shape  (100, 100, 3)\n"
     ]
    }
   ],
   "source": [
    "#from keras.preprocessing.image import array_to_img, img_to_array, load_img\n",
    "from keras.utils import array_to_img, img_to_array, load_img\n",
    "\n",
    "def convert_image_to_array(files):\n",
    "    images_as_array=[]\n",
    "    for file in files:\n",
    "        # Convert to Numpy Array\n",
    "        images_as_array.append(img_to_array(load_img(file)))\n",
    "    return images_as_array\n",
    "\n",
    "train_images_array = np.array(convert_image_to_array(names_train))\n",
    "print('Training set shape : ', train_images_array.shape)\n",
    "\n",
    "test_images_array = np.array(convert_image_to_array(names_test))\n",
    "print('Test set shape : ', test_images_array.shape)\n",
    "\n",
    "print('1st training image shape ',train_images_array[0].shape)"
   ],
   "metadata": {
    "collapsed": false
   }
  },
  {
   "cell_type": "markdown",
   "source": [
    "Pixel arrays of one image (100x100 pixels, 3 color channels)."
   ],
   "metadata": {
    "collapsed": false
   }
  },
  {
   "cell_type": "code",
   "execution_count": 13,
   "outputs": [
    {
     "name": "stdout",
     "output_type": "stream",
     "text": [
      "1st training image as array [[[255. 255. 255.]\n",
      "  [255. 255. 255.]\n",
      "  [255. 255. 255.]\n",
      "  ...\n",
      "  [255. 255. 255.]\n",
      "  [255. 255. 255.]\n",
      "  [255. 255. 255.]]\n",
      "\n",
      " [[255. 255. 255.]\n",
      "  [255. 255. 255.]\n",
      "  [255. 255. 255.]\n",
      "  ...\n",
      "  [255. 255. 255.]\n",
      "  [255. 255. 255.]\n",
      "  [255. 255. 255.]]\n",
      "\n",
      " [[255. 255. 255.]\n",
      "  [255. 255. 255.]\n",
      "  [255. 255. 255.]\n",
      "  ...\n",
      "  [255. 255. 255.]\n",
      "  [255. 255. 255.]\n",
      "  [255. 255. 255.]]\n",
      "\n",
      " ...\n",
      "\n",
      " [[255. 255. 255.]\n",
      "  [255. 255. 255.]\n",
      "  [255. 255. 255.]\n",
      "  ...\n",
      "  [255. 255. 255.]\n",
      "  [255. 255. 255.]\n",
      "  [255. 255. 255.]]\n",
      "\n",
      " [[255. 255. 255.]\n",
      "  [255. 255. 255.]\n",
      "  [255. 255. 255.]\n",
      "  ...\n",
      "  [255. 255. 255.]\n",
      "  [255. 255. 255.]\n",
      "  [255. 255. 255.]]\n",
      "\n",
      " [[255. 255. 255.]\n",
      "  [255. 255. 255.]\n",
      "  [255. 255. 255.]\n",
      "  ...\n",
      "  [255. 255. 255.]\n",
      "  [255. 255. 255.]\n",
      "  [255. 255. 255.]]]\n"
     ]
    }
   ],
   "source": [
    "print('1st training image as array',train_images_array[0])"
   ],
   "metadata": {
    "collapsed": false
   }
  },
  {
   "cell_type": "markdown",
   "source": [
    "Rescale pixel values from 0-255 range to 0-1.\n",
    "\n",
    "\n",
    "1.   train_images_array is an array containing the normalized pixel values of the train images.\n",
    "2.   test_images_array is an array containing the normalized pixel values of the test images.\n",
    "3.   valid_images_array is an array containing the normalized pixel values of the validation images.\n",
    "\n"
   ],
   "metadata": {
    "collapsed": false
   }
  },
  {
   "cell_type": "code",
   "execution_count": 14,
   "outputs": [],
   "source": [
    "train_images_array = train_images_array.astype('float32')/255\n",
    "test_images_array = test_images_array.astype('float32')/255"
   ],
   "metadata": {
    "collapsed": false
   }
  },
  {
   "cell_type": "code",
   "execution_count": 15,
   "outputs": [],
   "source": [
    "from sklearn.model_selection import train_test_split\n",
    "#split the training dataset ito trainset anbd testset (reduce computation power)\n",
    "\n",
    "new_train_images_array, new_test_images_array, new_train_intclass, new_test_intclass = train_test_split(train_images_array, intclass_train, test_size=0.3, random_state=42)"
   ],
   "metadata": {
    "collapsed": false
   }
  },
  {
   "cell_type": "code",
   "execution_count": 16,
   "outputs": [
    {
     "name": "stdout",
     "output_type": "stream",
     "text": [
      "Training set size :  67692\n",
      "Testing set size :  22688\n",
      "Training set LABELS size :  (67692,)\n",
      "Testing set LABELS size :  (22688,)\n"
     ]
    }
   ],
   "source": [
    "#train_datasize = 40000\n",
    "#test_datasize = 10000\n",
    "#names_train = names_train[:train_datasize]\n",
    "#names_test = names_test[:test_datasize]\n",
    "#intclass_train = intclass_train[:train_datasize]\n",
    "#intclass_test = intclass_test[:test_datasize]\n",
    "print('Training set size : ',  names_train.shape[0])\n",
    "print('Testing set size : ', names_test.shape[0])\n",
    "#print(stringclass_train)\n",
    "print('Training set LABELS size : ',intclass_train.shape)\n",
    "print('Testing set LABELS size : ',intclass_test.shape)"
   ],
   "metadata": {
    "collapsed": false
   }
  },
  {
   "cell_type": "code",
   "execution_count": 17,
   "outputs": [
    {
     "name": "stdout",
     "output_type": "stream",
     "text": [
      "New Training set size :  47384\n",
      "New Testing set size :  20308\n",
      "New Training set LABELS size :  (47384,)\n",
      "New Testing set LABELS size :  (20308,)\n"
     ]
    }
   ],
   "source": [
    "print('New Training set size : ',  new_train_images_array.shape[0])\n",
    "print('New Testing set size : ', new_test_images_array.shape[0])\n",
    "print('New Training set LABELS size : ', new_train_intclass.shape)\n",
    "print('New Testing set LABELS size : ',new_test_intclass.shape)"
   ],
   "metadata": {
    "collapsed": false
   }
  },
  {
   "cell_type": "markdown",
   "source": [
    "Following the code in the link below\n",
    "\n",
    "https://www.analyticsvidhya.com/blog/2022/01/image-classification-using-machine-learning/\n"
   ],
   "metadata": {
    "collapsed": false
   }
  },
  {
   "cell_type": "code",
   "execution_count": 17,
   "outputs": [],
   "source": [],
   "metadata": {
    "collapsed": false
   }
  },
  {
   "cell_type": "code",
   "execution_count": 18,
   "outputs": [],
   "source": [
    "#sklearn expects i/p to be 2d array-model.fit(x_train,y_train)=>reshape to 2d array\n",
    "nsamples, nx, ny, nrgb = new_train_images_array.shape\n",
    "train_flat_images_array = new_train_images_array.reshape((nsamples,nx*ny*nrgb))"
   ],
   "metadata": {
    "collapsed": false
   }
  },
  {
   "cell_type": "code",
   "execution_count": 18,
   "outputs": [],
   "source": [],
   "metadata": {
    "collapsed": false
   }
  },
  {
   "cell_type": "code",
   "execution_count": 19,
   "outputs": [],
   "source": [
    "#so,eventually,model.predict() should also be a 2d input\n",
    "nsamples, nx, ny, nrgb = new_test_images_array.shape\n",
    "test_flat_images_array = new_test_images_array.reshape((nsamples,nx*ny*nrgb))"
   ],
   "metadata": {
    "collapsed": false
   }
  },
  {
   "cell_type": "code",
   "execution_count": 19,
   "outputs": [],
   "source": [],
   "metadata": {
    "collapsed": false
   }
  },
  {
   "cell_type": "code",
   "execution_count": 19,
   "outputs": [],
   "source": [
    "from datetime import datetime\n",
    "\n",
    "# Getting the current date and time\n",
    "dt1 = datetime.now()\n",
    "\n",
    "# getting the timestamp\n",
    "ts1 = datetime.timestamp(dt)\n",
    "\n",
    "print(\"Date and time is:\", dt1)\n",
    "print(\"Timestamp is:\", ts1)"
   ],
   "metadata": {
    "collapsed": false
   }
  },
  {
   "cell_type": "code",
   "execution_count": 20,
   "outputs": [],
   "source": [
    "from sklearn.ensemble import RandomForestClassifier\n",
    "rf=RandomForestClassifier()\n",
    "\n",
    "from sklearn.model_selection import GridSearchCV\n",
    "\n",
    "param_grid={\n",
    "    'n_estimators':[1,10], #,100,1000],\n",
    "    'criterion': ['gini', 'entropy'], # 'log_loss'],\n",
    "    #'max_depth':[10,100,1000],\n",
    "    #'max_features':['sqrt', 'log2', None],\n",
    "    #'min_impurity_decrease':[0.05,0.1,0.5],\n",
    "    'bootstrap':[False],\n",
    "    'random_state':[42],\n",
    "    #'ccp_alpha':[0.0,0.05,0.1,0.5],\n",
    "}\n",
    "#applying 5-fold cross validation to choose hyperparameter\n",
    "rf_gs=GridSearchCV(estimator=rf, param_grid=param_grid, scoring='accuracy', cv=5)"
   ],
   "metadata": {
    "collapsed": false
   }
  },
  {
   "cell_type": "code",
   "execution_count": 21,
   "outputs": [
    {
     "data": {
      "text/plain": "GridSearchCV(cv=5, estimator=RandomForestClassifier(),\n             param_grid={'bootstrap': [False], 'criterion': ['gini', 'entropy'],\n                         'n_estimators': [1, 10], 'random_state': [42]},\n             scoring='accuracy')"
     },
     "execution_count": 21,
     "metadata": {},
     "output_type": "execute_result"
    }
   ],
   "source": [
    "rf_gs.fit(train_flat_images_array,new_train_intclass)"
   ],
   "metadata": {
    "collapsed": false
   }
  },
  {
   "cell_type": "code",
   "execution_count": null,
   "outputs": [],
   "source": [
    "# Getting the current date and time\n",
    "dt2 = datetime.now()\n",
    "\n",
    "# getting the timestamp\n",
    "ts2 = datetime.timestamp(dt)\n",
    "\n",
    "print(\"Date and time is:\", dt2)\n",
    "print(\"Timestamp is:\", ts2)"
   ],
   "metadata": {
    "collapsed": false
   }
  },
  {
   "cell_type": "code",
   "execution_count": null,
   "outputs": [],
   "source": [
    "# difference between dates in timedelta\n",
    "delta = dt2 - dt1\n",
    "print(f'Difference is {delta.seconds} seconds')\n",
    "print(f'Difference is {delta.minutes} minutes')"
   ],
   "metadata": {
    "collapsed": false
   }
  },
  {
   "cell_type": "code",
   "execution_count": 22,
   "outputs": [
    {
     "data": {
      "text/plain": "{'bootstrap': False,\n 'ccp_alpha': 0.0,\n 'class_weight': None,\n 'criterion': 'gini',\n 'max_depth': None,\n 'max_features': 'auto',\n 'max_leaf_nodes': None,\n 'max_samples': None,\n 'min_impurity_decrease': 0.0,\n 'min_impurity_split': None,\n 'min_samples_leaf': 1,\n 'min_samples_split': 2,\n 'min_weight_fraction_leaf': 0.0,\n 'n_estimators': 10,\n 'n_jobs': None,\n 'oob_score': False,\n 'random_state': 42,\n 'verbose': 0,\n 'warm_start': False}"
     },
     "execution_count": 22,
     "metadata": {},
     "output_type": "execute_result"
    }
   ],
   "source": [
    "best_params = rf_gs.best_estimator_.get_params()\n",
    "best_params"
   ],
   "metadata": {
    "collapsed": false
   }
  },
  {
   "cell_type": "code",
   "execution_count": 23,
   "outputs": [
    {
     "data": {
      "text/plain": "array([ 74,  66, 105, ...,  63, 114, 103])"
     },
     "execution_count": 23,
     "metadata": {},
     "output_type": "execute_result"
    }
   ],
   "source": [
    "intclass_test_pred=rf_gs.best_estimator_.predict(test_flat_images_array)\n",
    "intclass_test_pred"
   ],
   "metadata": {
    "collapsed": false
   }
  },
  {
   "cell_type": "code",
   "execution_count": 24,
   "outputs": [
    {
     "ename": "NameError",
     "evalue": "name 'score' is not defined",
     "output_type": "error",
     "traceback": [
      "\u001B[1;31m---------------------------------------------------------------------------\u001B[0m",
      "\u001B[1;31mNameError\u001B[0m                                 Traceback (most recent call last)",
      "\u001B[1;32m<ipython-input-24-53816c113634>\u001B[0m in \u001B[0;36m<module>\u001B[1;34m\u001B[0m\n\u001B[1;32m----> 1\u001B[1;33m \u001B[0mtrain_score\u001B[0m \u001B[1;33m=\u001B[0m \u001B[0mscore\u001B[0m\u001B[1;33m(\u001B[0m\u001B[0mtrain_flat_images_array\u001B[0m\u001B[1;33m,\u001B[0m\u001B[0mintclass_train\u001B[0m\u001B[1;33m)\u001B[0m\u001B[1;33m\u001B[0m\u001B[1;33m\u001B[0m\u001B[0m\n\u001B[0m\u001B[0;32m      2\u001B[0m \u001B[0mtest_score\u001B[0m \u001B[1;33m=\u001B[0m \u001B[0mscore\u001B[0m\u001B[1;33m(\u001B[0m\u001B[0mtest_flat_images_array\u001B[0m\u001B[1;33m,\u001B[0m\u001B[0mintclass_test\u001B[0m\u001B[1;33m)\u001B[0m\u001B[1;33m\u001B[0m\u001B[1;33m\u001B[0m\u001B[0m\n\u001B[0;32m      3\u001B[0m \u001B[0mprint\u001B[0m\u001B[1;33m(\u001B[0m\u001B[1;34mf'The model has {train_score*100}% accuracy in the train set'\u001B[0m\u001B[1;33m)\u001B[0m\u001B[1;33m\u001B[0m\u001B[1;33m\u001B[0m\u001B[0m\n\u001B[0;32m      4\u001B[0m \u001B[0mprint\u001B[0m\u001B[1;33m(\u001B[0m\u001B[1;34mf'The model has {test_score*100}% accuracy in the test set'\u001B[0m\u001B[1;33m)\u001B[0m\u001B[1;33m\u001B[0m\u001B[1;33m\u001B[0m\u001B[0m\n\u001B[0;32m      5\u001B[0m \u001B[1;33m\u001B[0m\u001B[0m\n",
      "\u001B[1;31mNameError\u001B[0m: name 'score' is not defined"
     ]
    }
   ],
   "source": [
    "train_score = score(train_flat_images_array,intclass_train)\n",
    "test_score = score(test_flat_images_array,intclass_test)\n",
    "print(f'The model has {train_score*100}% accuracy in the train set')\n",
    "print(f'The model has {test_score*100}% accuracy in the test set')\n"
   ],
   "metadata": {
    "collapsed": false
   }
  },
  {
   "cell_type": "code",
   "execution_count": 25,
   "outputs": [],
   "source": [
    "from sklearn.metrics import accuracy_score,confusion_matrix,classification_report"
   ],
   "metadata": {
    "collapsed": false
   }
  },
  {
   "cell_type": "code",
   "execution_count": 29,
   "outputs": [
    {
     "data": {
      "text/plain": "0.9981780579082136"
     },
     "execution_count": 29,
     "metadata": {},
     "output_type": "execute_result"
    }
   ],
   "source": [
    "acc = accuracy_score(intclass_test_pred,new_test_intclass)\n",
    "acc"
   ],
   "metadata": {
    "collapsed": false
   }
  },
  {
   "cell_type": "code",
   "execution_count": 31,
   "outputs": [
    {
     "name": "stdout",
     "output_type": "stream",
     "text": [
      "The predicted Data is :\n",
      "[ 74  66 105 ...  63 114 103]\n",
      "The actual data is:\n",
      "[ 74  66 105 ...  63 114 103]\n",
      "The model is 99.81780579082135% accurate (in the test set)\n"
     ]
    }
   ],
   "source": [
    "print(\"The predicted Data is :\")\n",
    "print(np.array(intclass_test_pred))\n",
    "print(\"The actual data is:\")\n",
    "print(np.array(new_test_intclass))\n",
    "print(f\"The model is {acc*100}% accurate (in the test set)\")"
   ],
   "metadata": {
    "collapsed": false
   }
  },
  {
   "cell_type": "code",
   "execution_count": 33,
   "outputs": [
    {
     "name": "stdout",
     "output_type": "stream",
     "text": [
      "              precision    recall  f1-score   support\n",
      "\n",
      "           0       1.00      1.00      1.00       144\n",
      "           1       1.00      1.00      1.00       141\n",
      "           2       1.00      1.00      1.00       135\n",
      "           3       1.00      0.99      0.99       150\n",
      "           4       1.00      1.00      1.00       144\n",
      "           5       1.00      1.00      1.00       122\n",
      "           6       1.00      0.99      1.00       142\n",
      "           7       1.00      1.00      1.00       138\n",
      "           8       1.00      1.00      1.00       170\n",
      "           9       1.00      1.00      1.00       121\n",
      "          10       1.00      1.00      1.00       174\n",
      "          11       1.00      1.00      1.00       151\n",
      "          12       1.00      1.00      1.00       210\n",
      "          13       1.00      1.00      1.00       153\n",
      "          14       1.00      1.00      1.00       128\n",
      "          15       1.00      0.99      1.00       152\n",
      "          16       0.99      1.00      1.00       136\n",
      "          17       0.99      1.00      1.00       145\n",
      "          18       1.00      0.99      1.00       152\n",
      "          19       1.00      0.98      0.99       128\n",
      "          20       1.00      1.00      1.00       127\n",
      "          21       0.99      1.00      0.99       147\n",
      "          22       1.00      1.00      1.00       137\n",
      "          23       1.00      1.00      1.00       142\n",
      "          24       1.00      0.99      1.00       166\n",
      "          25       1.00      0.99      1.00       218\n",
      "          26       1.00      1.00      1.00       155\n",
      "          27       1.00      1.00      1.00       221\n",
      "          28       1.00      1.00      1.00       235\n",
      "          29       1.00      1.00      1.00       155\n",
      "          30       1.00      1.00      1.00       155\n",
      "          31       1.00      1.00      1.00       142\n",
      "          32       0.99      1.00      1.00       131\n",
      "          33       1.00      1.00      1.00       146\n",
      "          34       0.99      0.98      0.98       165\n",
      "          35       0.99      1.00      1.00       144\n",
      "          36       1.00      1.00      1.00       137\n",
      "          37       0.96      0.98      0.97       102\n",
      "          38       1.00      0.99      1.00       146\n",
      "          39       1.00      1.00      1.00       128\n",
      "          40       1.00      1.00      1.00       134\n",
      "          41       1.00      1.00      1.00       222\n",
      "          42       1.00      1.00      1.00        83\n",
      "          43       1.00      1.00      1.00       157\n",
      "          44       1.00      1.00      1.00       301\n",
      "          45       1.00      0.99      1.00       157\n",
      "          46       1.00      1.00      1.00       165\n",
      "          47       1.00      1.00      1.00       159\n",
      "          48       1.00      0.99      1.00       135\n",
      "          49       1.00      1.00      1.00       127\n",
      "          50       1.00      1.00      1.00       135\n",
      "          51       1.00      1.00      1.00       161\n",
      "          52       1.00      0.99      1.00       134\n",
      "          53       1.00      1.00      1.00       139\n",
      "          54       1.00      1.00      1.00       136\n",
      "          55       1.00      1.00      1.00       134\n",
      "          56       1.00      1.00      1.00       149\n",
      "          57       1.00      1.00      1.00       146\n",
      "          58       1.00      1.00      1.00       153\n",
      "          59       1.00      1.00      1.00       149\n",
      "          60       1.00      1.00      1.00       148\n",
      "          61       1.00      1.00      1.00       171\n",
      "          62       1.00      1.00      1.00       145\n",
      "          63       1.00      0.99      0.99       159\n",
      "          64       1.00      1.00      1.00       131\n",
      "          65       1.00      1.00      1.00       112\n",
      "          66       0.99      1.00      0.99        89\n",
      "          67       0.98      1.00      0.99       135\n",
      "          68       1.00      0.98      0.99       225\n",
      "          69       1.00      1.00      1.00       141\n",
      "          70       1.00      1.00      1.00       138\n",
      "          71       1.00      1.00      1.00       148\n",
      "          72       1.00      1.00      1.00       210\n",
      "          73       0.98      1.00      0.99       150\n",
      "          74       1.00      1.00      1.00       116\n",
      "          75       1.00      1.00      1.00       134\n",
      "          76       1.00      1.00      1.00       140\n",
      "          77       1.00      1.00      1.00       144\n",
      "          78       1.00      1.00      1.00       132\n",
      "          79       1.00      1.00      1.00       147\n",
      "          80       1.00      1.00      1.00       135\n",
      "          81       1.00      1.00      1.00       206\n",
      "          82       1.00      1.00      1.00       165\n",
      "          83       1.00      1.00      1.00       149\n",
      "          84       1.00      1.00      1.00       229\n",
      "          85       1.00      1.00      1.00       150\n",
      "          86       1.00      0.98      0.99       196\n",
      "          87       1.00      1.00      1.00        79\n",
      "          88       1.00      1.00      1.00       133\n",
      "          89       1.00      1.00      1.00       200\n",
      "          90       1.00      1.00      1.00       203\n",
      "          91       1.00      1.00      1.00       128\n",
      "          92       1.00      1.00      1.00       165\n",
      "          93       1.00      0.99      1.00       149\n",
      "          94       1.00      1.00      1.00       219\n",
      "          95       1.00      1.00      1.00       212\n",
      "          96       1.00      1.00      1.00       203\n",
      "          97       0.99      1.00      1.00       149\n",
      "          98       1.00      1.00      1.00       150\n",
      "          99       0.97      0.99      0.98       152\n",
      "         100       0.98      1.00      0.99       128\n",
      "         101       1.00      1.00      1.00       158\n",
      "         102       1.00      1.00      1.00       139\n",
      "         103       1.00      1.00      1.00       139\n",
      "         104       1.00      1.00      1.00       275\n",
      "         105       1.00      1.00      1.00       144\n",
      "         106       1.00      1.00      1.00       151\n",
      "         107       0.99      1.00      0.99       133\n",
      "         108       1.00      1.00      1.00       142\n",
      "         109       0.99      0.99      0.99       146\n",
      "         110       0.99      1.00      1.00       145\n",
      "         111       1.00      1.00      1.00       148\n",
      "         112       1.00      1.00      1.00       130\n",
      "         113       1.00      1.00      1.00       153\n",
      "         114       1.00      1.00      1.00       144\n",
      "         115       1.00      1.00      1.00       157\n",
      "         116       0.99      1.00      1.00       145\n",
      "         117       1.00      0.99      1.00       202\n",
      "         118       1.00      1.00      1.00       141\n",
      "         119       1.00      1.00      1.00       141\n",
      "         120       1.00      1.00      1.00       209\n",
      "         121       1.00      1.00      1.00       204\n",
      "         122       1.00      1.00      1.00       231\n",
      "         123       1.00      1.00      1.00       154\n",
      "         124       1.00      1.00      1.00       139\n",
      "         125       1.00      1.00      1.00       183\n",
      "         126       1.00      1.00      1.00       109\n",
      "         127       1.00      1.00      1.00       131\n",
      "         128       1.00      1.00      1.00       139\n",
      "         129       1.00      1.00      1.00       219\n",
      "         130       0.98      1.00      0.99       131\n",
      "\n",
      "    accuracy                           1.00     20308\n",
      "   macro avg       1.00      1.00      1.00     20308\n",
      "weighted avg       1.00      1.00      1.00     20308\n",
      "\n"
     ]
    }
   ],
   "source": [
    "print(classification_report(intclass_test_pred,new_test_intclass))"
   ],
   "metadata": {
    "collapsed": false
   }
  },
  {
   "cell_type": "markdown",
   "source": [
    "# Ploting the scores of gridsearcchcv\n",
    "https://stackoverflow.com/questions/37161563/how-to-graph-grid-scores-from-gridsearchcv"
   ],
   "metadata": {
    "collapsed": false
   }
  },
  {
   "cell_type": "code",
   "execution_count": null,
   "outputs": [],
   "source": [],
   "metadata": {
    "collapsed": false
   }
  },
  {
   "cell_type": "code",
   "execution_count": null,
   "outputs": [],
   "source": [],
   "metadata": {
    "collapsed": false
   }
  },
  {
   "cell_type": "code",
   "execution_count": null,
   "outputs": [],
   "source": [],
   "metadata": {
    "collapsed": false
   }
  },
  {
   "cell_type": "markdown",
   "source": [
    "# Ploting the Consusion Matrix"
   ],
   "metadata": {
    "collapsed": false
   }
  },
  {
   "cell_type": "code",
   "execution_count": 35,
   "outputs": [
    {
     "data": {
      "text/plain": "array([[144,   0,   0, ...,   0,   0,   0],\n       [  0, 141,   0, ...,   0,   0,   0],\n       [  0,   0, 135, ...,   0,   0,   0],\n       ...,\n       [  0,   0,   0, ..., 139,   0,   0],\n       [  0,   0,   0, ...,   0, 219,   0],\n       [  0,   0,   0, ...,   0,   0, 131]], dtype=int64)"
     },
     "execution_count": 35,
     "metadata": {},
     "output_type": "execute_result"
    }
   ],
   "source": [
    "cm = confusion_matrix(intclass_test_pred,new_test_intclass)\n",
    "cm"
   ],
   "metadata": {
    "collapsed": false
   }
  },
  {
   "cell_type": "markdown",
   "source": [],
   "metadata": {
    "collapsed": false
   }
  },
  {
   "cell_type": "code",
   "execution_count": 36,
   "outputs": [],
   "source": [
    "df = pd.DataFrame(cm).replace(0, np.nan)"
   ],
   "metadata": {
    "collapsed": false
   }
  },
  {
   "cell_type": "code",
   "execution_count": 37,
   "outputs": [],
   "source": [
    "import seaborn as sns"
   ],
   "metadata": {
    "collapsed": false
   }
  },
  {
   "cell_type": "code",
   "execution_count": 38,
   "outputs": [
    {
     "data": {
      "text/plain": "<Figure size 1440x1440 with 2 Axes>",
      "image/png": "[encoded data removed]"
     },
     "metadata": {},
     "output_type": "display_data"
    }
   ],
   "source": [
    "plt.figure(figsize=[20,20])\n",
    "sns.heatmap(df, annot=True, fmt='g', cmap=\"Blues\")\n",
    "plt.show()"
   ],
   "metadata": {
    "collapsed": false
   }
  },
  {
   "cell_type": "markdown",
   "source": [],
   "metadata": {
    "collapsed": false
   }
  },
  {
   "cell_type": "code",
   "execution_count": null,
   "outputs": [],
   "source": [
    "#selecting the higher values outside of the diagonal (biggest confusion between classing)\n",
    "#and associating it with the original class and the predicted class\n",
    "\n",
    "#for example if green apples and red apples have some confusion it is not as much a problem as bananas and red apples"
   ],
   "metadata": {
    "collapsed": false
   }
  },
  {
   "cell_type": "code",
   "execution_count": 39,
   "outputs": [
    {
     "data": {
      "text/plain": "array([[144,   0,   0, ...,   0,   0,   0],\n       [  0, 141,   0, ...,   0,   0,   0],\n       [  0,   0, 135, ...,   0,   0,   0],\n       ...,\n       [  0,   0,   0, ..., 139,   0,   0],\n       [  0,   0,   0, ...,   0, 219,   0],\n       [  0,   0,   0, ...,   0,   0, 131]], dtype=int64)"
     },
     "execution_count": 39,
     "metadata": {},
     "output_type": "execute_result"
    }
   ],
   "source": [
    "cm"
   ],
   "metadata": {
    "collapsed": false
   }
  },
  {
   "cell_type": "code",
   "execution_count": 42,
   "outputs": [
    {
     "data": {
      "text/plain": "0"
     },
     "execution_count": 42,
     "metadata": {},
     "output_type": "execute_result"
    }
   ],
   "source": [
    "sum(sum(cm==21))"
   ],
   "metadata": {
    "collapsed": false
   }
  },
  {
   "cell_type": "code",
   "execution_count": null,
   "outputs": [],
   "source": [],
   "metadata": {
    "collapsed": false
   }
  }
 ],
 "metadata": {
  "accelerator": "GPU",
  "colab": {
   "collapsed_sections": [],
   "provenance": []
  },
  "kernelspec": {
   "display_name": "Python 3 (ipykernel)",
   "language": "python",
   "name": "python3"
  },
  "language_info": {
   "codemirror_mode": {
    "name": "ipython",
    "version": 3
   },
   "file_extension": ".py",
   "mimetype": "text/x-python",
   "name": "python",
   "nbconvert_exporter": "python",
   "pygments_lexer": "ipython3",
   "version": "3.8.13"
  }
 },
 "nbformat": 4,
 "nbformat_minor": 4
}
